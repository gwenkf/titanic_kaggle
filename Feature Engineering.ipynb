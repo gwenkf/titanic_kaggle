{
 "cells": [
  {
   "cell_type": "markdown",
   "metadata": {},
   "source": [
    "## Feature Engineering - titanic dataset"
   ]
  },
  {
   "cell_type": "code",
   "execution_count": 69,
   "metadata": {},
   "outputs": [
    {
     "name": "stdout",
     "output_type": "stream",
     "text": [
      "(891, 12)\n",
      "(418, 11)\n"
     ]
    }
   ],
   "source": [
    "import pandas as pd\n",
    "import numpy as np\n",
    "\n",
    "train = pd.read_csv('train.csv')\n",
    "test = pd.read_csv('test.csv')\n",
    "\n",
    "print(train.shape)\n",
    "print(test.shape)"
   ]
  },
  {
   "cell_type": "code",
   "execution_count": 70,
   "metadata": {},
   "outputs": [
    {
     "data": {
      "text/html": [
       "<div>\n",
       "<style>\n",
       "    .dataframe thead tr:only-child th {\n",
       "        text-align: right;\n",
       "    }\n",
       "\n",
       "    .dataframe thead th {\n",
       "        text-align: left;\n",
       "    }\n",
       "\n",
       "    .dataframe tbody tr th {\n",
       "        vertical-align: top;\n",
       "    }\n",
       "</style>\n",
       "<table border=\"1\" class=\"dataframe\">\n",
       "  <thead>\n",
       "    <tr style=\"text-align: right;\">\n",
       "      <th></th>\n",
       "      <th>PassengerId</th>\n",
       "      <th>Survived</th>\n",
       "      <th>Pclass</th>\n",
       "      <th>Name</th>\n",
       "      <th>Sex</th>\n",
       "      <th>Age</th>\n",
       "      <th>SibSp</th>\n",
       "      <th>Parch</th>\n",
       "      <th>Ticket</th>\n",
       "      <th>Fare</th>\n",
       "      <th>Cabin</th>\n",
       "      <th>Embarked</th>\n",
       "    </tr>\n",
       "  </thead>\n",
       "  <tbody>\n",
       "    <tr>\n",
       "      <th>0</th>\n",
       "      <td>1</td>\n",
       "      <td>0</td>\n",
       "      <td>3</td>\n",
       "      <td>Braund, Mr. Owen Harris</td>\n",
       "      <td>male</td>\n",
       "      <td>22.0</td>\n",
       "      <td>1</td>\n",
       "      <td>0</td>\n",
       "      <td>A/5 21171</td>\n",
       "      <td>7.2500</td>\n",
       "      <td>NaN</td>\n",
       "      <td>S</td>\n",
       "    </tr>\n",
       "    <tr>\n",
       "      <th>1</th>\n",
       "      <td>2</td>\n",
       "      <td>1</td>\n",
       "      <td>1</td>\n",
       "      <td>Cumings, Mrs. John Bradley (Florence Briggs Th...</td>\n",
       "      <td>female</td>\n",
       "      <td>38.0</td>\n",
       "      <td>1</td>\n",
       "      <td>0</td>\n",
       "      <td>PC 17599</td>\n",
       "      <td>71.2833</td>\n",
       "      <td>C85</td>\n",
       "      <td>C</td>\n",
       "    </tr>\n",
       "    <tr>\n",
       "      <th>2</th>\n",
       "      <td>3</td>\n",
       "      <td>1</td>\n",
       "      <td>3</td>\n",
       "      <td>Heikkinen, Miss. Laina</td>\n",
       "      <td>female</td>\n",
       "      <td>26.0</td>\n",
       "      <td>0</td>\n",
       "      <td>0</td>\n",
       "      <td>STON/O2. 3101282</td>\n",
       "      <td>7.9250</td>\n",
       "      <td>NaN</td>\n",
       "      <td>S</td>\n",
       "    </tr>\n",
       "    <tr>\n",
       "      <th>3</th>\n",
       "      <td>4</td>\n",
       "      <td>1</td>\n",
       "      <td>1</td>\n",
       "      <td>Futrelle, Mrs. Jacques Heath (Lily May Peel)</td>\n",
       "      <td>female</td>\n",
       "      <td>35.0</td>\n",
       "      <td>1</td>\n",
       "      <td>0</td>\n",
       "      <td>113803</td>\n",
       "      <td>53.1000</td>\n",
       "      <td>C123</td>\n",
       "      <td>S</td>\n",
       "    </tr>\n",
       "    <tr>\n",
       "      <th>4</th>\n",
       "      <td>5</td>\n",
       "      <td>0</td>\n",
       "      <td>3</td>\n",
       "      <td>Allen, Mr. William Henry</td>\n",
       "      <td>male</td>\n",
       "      <td>35.0</td>\n",
       "      <td>0</td>\n",
       "      <td>0</td>\n",
       "      <td>373450</td>\n",
       "      <td>8.0500</td>\n",
       "      <td>NaN</td>\n",
       "      <td>S</td>\n",
       "    </tr>\n",
       "  </tbody>\n",
       "</table>\n",
       "</div>"
      ],
      "text/plain": [
       "   PassengerId  Survived  Pclass  \\\n",
       "0            1         0       3   \n",
       "1            2         1       1   \n",
       "2            3         1       3   \n",
       "3            4         1       1   \n",
       "4            5         0       3   \n",
       "\n",
       "                                                Name     Sex   Age  SibSp  \\\n",
       "0                            Braund, Mr. Owen Harris    male  22.0      1   \n",
       "1  Cumings, Mrs. John Bradley (Florence Briggs Th...  female  38.0      1   \n",
       "2                             Heikkinen, Miss. Laina  female  26.0      0   \n",
       "3       Futrelle, Mrs. Jacques Heath (Lily May Peel)  female  35.0      1   \n",
       "4                           Allen, Mr. William Henry    male  35.0      0   \n",
       "\n",
       "   Parch            Ticket     Fare Cabin Embarked  \n",
       "0      0         A/5 21171   7.2500   NaN        S  \n",
       "1      0          PC 17599  71.2833   C85        C  \n",
       "2      0  STON/O2. 3101282   7.9250   NaN        S  \n",
       "3      0            113803  53.1000  C123        S  \n",
       "4      0            373450   8.0500   NaN        S  "
      ]
     },
     "execution_count": 70,
     "metadata": {},
     "output_type": "execute_result"
    }
   ],
   "source": [
    "train.head()"
   ]
  },
  {
   "cell_type": "code",
   "execution_count": 71,
   "metadata": {},
   "outputs": [
    {
     "data": {
      "text/plain": [
       "0    608\n",
       "1    209\n",
       "2     28\n",
       "4     18\n",
       "3     16\n",
       "8      7\n",
       "5      5\n",
       "Name: SibSp, dtype: int64"
      ]
     },
     "execution_count": 71,
     "metadata": {},
     "output_type": "execute_result"
    }
   ],
   "source": [
    "train['SibSp'].value_counts()"
   ]
  },
  {
   "cell_type": "code",
   "execution_count": 72,
   "metadata": {},
   "outputs": [
    {
     "data": {
      "text/plain": [
       "0    678\n",
       "1    118\n",
       "2     80\n",
       "5      5\n",
       "3      5\n",
       "4      4\n",
       "6      1\n",
       "Name: Parch, dtype: int64"
      ]
     },
     "execution_count": 72,
     "metadata": {},
     "output_type": "execute_result"
    }
   ],
   "source": [
    "train['Parch'].value_counts()"
   ]
  },
  {
   "cell_type": "markdown",
   "metadata": {},
   "source": [
    "Creating new feature - FamMembers for number of family members each passenger was with (adding SibSp and Parch columns)"
   ]
  },
  {
   "cell_type": "code",
   "execution_count": 73,
   "metadata": {
    "collapsed": true
   },
   "outputs": [],
   "source": [
    "train['FamMembers'] = train['SibSp'] + train['Parch']"
   ]
  },
  {
   "cell_type": "code",
   "execution_count": 74,
   "metadata": {
    "collapsed": true
   },
   "outputs": [],
   "source": [
    "test['FamMembers'] = test['SibSp'] + test['Parch']"
   ]
  },
  {
   "cell_type": "markdown",
   "metadata": {},
   "source": [
    "Creating new feature - 0 or 1 based on whether passenger was travelling alone"
   ]
  },
  {
   "cell_type": "code",
   "execution_count": 75,
   "metadata": {
    "collapsed": true
   },
   "outputs": [],
   "source": [
    "train['LoneTravel'] = train['FamMembers'].apply(lambda x: 0 if x == 0 else 1)"
   ]
  },
  {
   "cell_type": "code",
   "execution_count": 76,
   "metadata": {
    "collapsed": true
   },
   "outputs": [],
   "source": [
    "test['LoneTravel'] = test['FamMembers'].apply(lambda x: 0 if x == 0 else 1)"
   ]
  },
  {
   "cell_type": "markdown",
   "metadata": {},
   "source": [
    "Filling NaN values in Cabin column with 'Unknown'"
   ]
  },
  {
   "cell_type": "code",
   "execution_count": 77,
   "metadata": {
    "collapsed": true
   },
   "outputs": [],
   "source": [
    "cabin = train[['Cabin']] #isolate Cabin column as DF"
   ]
  },
  {
   "cell_type": "code",
   "execution_count": 78,
   "metadata": {
    "collapsed": true
   },
   "outputs": [],
   "source": [
    "cabin = cabin.fillna(value='Unknown') #fill NaN values with 'Unknown'"
   ]
  },
  {
   "cell_type": "code",
   "execution_count": 79,
   "metadata": {
    "collapsed": true
   },
   "outputs": [],
   "source": [
    "cabin = cabin.reset_index()"
   ]
  },
  {
   "cell_type": "code",
   "execution_count": 80,
   "metadata": {},
   "outputs": [
    {
     "data": {
      "text/html": [
       "<div>\n",
       "<style>\n",
       "    .dataframe thead tr:only-child th {\n",
       "        text-align: right;\n",
       "    }\n",
       "\n",
       "    .dataframe thead th {\n",
       "        text-align: left;\n",
       "    }\n",
       "\n",
       "    .dataframe tbody tr th {\n",
       "        vertical-align: top;\n",
       "    }\n",
       "</style>\n",
       "<table border=\"1\" class=\"dataframe\">\n",
       "  <thead>\n",
       "    <tr style=\"text-align: right;\">\n",
       "      <th></th>\n",
       "      <th>index</th>\n",
       "      <th>Cabin</th>\n",
       "    </tr>\n",
       "  </thead>\n",
       "  <tbody>\n",
       "    <tr>\n",
       "      <th>0</th>\n",
       "      <td>0</td>\n",
       "      <td>Unknown</td>\n",
       "    </tr>\n",
       "    <tr>\n",
       "      <th>1</th>\n",
       "      <td>1</td>\n",
       "      <td>C85</td>\n",
       "    </tr>\n",
       "    <tr>\n",
       "      <th>2</th>\n",
       "      <td>2</td>\n",
       "      <td>Unknown</td>\n",
       "    </tr>\n",
       "    <tr>\n",
       "      <th>3</th>\n",
       "      <td>3</td>\n",
       "      <td>C123</td>\n",
       "    </tr>\n",
       "    <tr>\n",
       "      <th>4</th>\n",
       "      <td>4</td>\n",
       "      <td>Unknown</td>\n",
       "    </tr>\n",
       "  </tbody>\n",
       "</table>\n",
       "</div>"
      ],
      "text/plain": [
       "   index    Cabin\n",
       "0      0  Unknown\n",
       "1      1      C85\n",
       "2      2  Unknown\n",
       "3      3     C123\n",
       "4      4  Unknown"
      ]
     },
     "execution_count": 80,
     "metadata": {},
     "output_type": "execute_result"
    }
   ],
   "source": [
    "cabin.head()"
   ]
  },
  {
   "cell_type": "code",
   "execution_count": 81,
   "metadata": {
    "collapsed": true
   },
   "outputs": [],
   "source": [
    "train = train.reset_index() #creating new index column that will align with Cabin DF index column"
   ]
  },
  {
   "cell_type": "code",
   "execution_count": 82,
   "metadata": {
    "collapsed": true
   },
   "outputs": [],
   "source": [
    "# train.head()"
   ]
  },
  {
   "cell_type": "code",
   "execution_count": 83,
   "metadata": {
    "collapsed": true
   },
   "outputs": [],
   "source": [
    "train = train.merge(cabin, how='left',on='index')"
   ]
  },
  {
   "cell_type": "code",
   "execution_count": 84,
   "metadata": {
    "collapsed": true
   },
   "outputs": [],
   "source": [
    "# train.head()\n",
    "# train.shape"
   ]
  },
  {
   "cell_type": "code",
   "execution_count": 85,
   "metadata": {
    "collapsed": true
   },
   "outputs": [],
   "source": [
    "cabin = test[['Cabin']]\n",
    "cabin = cabin.fillna(value='Unknown')"
   ]
  },
  {
   "cell_type": "code",
   "execution_count": 86,
   "metadata": {
    "collapsed": true
   },
   "outputs": [],
   "source": [
    "cabin = cabin.reset_index()"
   ]
  },
  {
   "cell_type": "code",
   "execution_count": 87,
   "metadata": {},
   "outputs": [
    {
     "data": {
      "text/html": [
       "<div>\n",
       "<style>\n",
       "    .dataframe thead tr:only-child th {\n",
       "        text-align: right;\n",
       "    }\n",
       "\n",
       "    .dataframe thead th {\n",
       "        text-align: left;\n",
       "    }\n",
       "\n",
       "    .dataframe tbody tr th {\n",
       "        vertical-align: top;\n",
       "    }\n",
       "</style>\n",
       "<table border=\"1\" class=\"dataframe\">\n",
       "  <thead>\n",
       "    <tr style=\"text-align: right;\">\n",
       "      <th></th>\n",
       "      <th>index</th>\n",
       "      <th>Cabin</th>\n",
       "    </tr>\n",
       "  </thead>\n",
       "  <tbody>\n",
       "    <tr>\n",
       "      <th>0</th>\n",
       "      <td>0</td>\n",
       "      <td>Unknown</td>\n",
       "    </tr>\n",
       "    <tr>\n",
       "      <th>1</th>\n",
       "      <td>1</td>\n",
       "      <td>Unknown</td>\n",
       "    </tr>\n",
       "    <tr>\n",
       "      <th>2</th>\n",
       "      <td>2</td>\n",
       "      <td>Unknown</td>\n",
       "    </tr>\n",
       "    <tr>\n",
       "      <th>3</th>\n",
       "      <td>3</td>\n",
       "      <td>Unknown</td>\n",
       "    </tr>\n",
       "    <tr>\n",
       "      <th>4</th>\n",
       "      <td>4</td>\n",
       "      <td>Unknown</td>\n",
       "    </tr>\n",
       "  </tbody>\n",
       "</table>\n",
       "</div>"
      ],
      "text/plain": [
       "   index    Cabin\n",
       "0      0  Unknown\n",
       "1      1  Unknown\n",
       "2      2  Unknown\n",
       "3      3  Unknown\n",
       "4      4  Unknown"
      ]
     },
     "execution_count": 87,
     "metadata": {},
     "output_type": "execute_result"
    }
   ],
   "source": [
    "cabin.head()"
   ]
  },
  {
   "cell_type": "code",
   "execution_count": 88,
   "metadata": {
    "collapsed": true
   },
   "outputs": [],
   "source": [
    "test = test.reset_index()"
   ]
  },
  {
   "cell_type": "code",
   "execution_count": 89,
   "metadata": {
    "collapsed": true
   },
   "outputs": [],
   "source": [
    "# test.head()"
   ]
  },
  {
   "cell_type": "code",
   "execution_count": 90,
   "metadata": {
    "collapsed": true
   },
   "outputs": [],
   "source": [
    "test = test.merge(cabin, how='left',on='index')"
   ]
  },
  {
   "cell_type": "code",
   "execution_count": 91,
   "metadata": {},
   "outputs": [
    {
     "data": {
      "text/plain": [
       "(418, 15)"
      ]
     },
     "execution_count": 91,
     "metadata": {},
     "output_type": "execute_result"
    }
   ],
   "source": [
    "# test.head()\n",
    "test.shape"
   ]
  },
  {
   "cell_type": "markdown",
   "metadata": {},
   "source": [
    "Label Encoding Categorical Features - Name, Sex, Ticket, Embarked and **cabin**"
   ]
  },
  {
   "cell_type": "code",
   "execution_count": 92,
   "metadata": {
    "collapsed": true
   },
   "outputs": [],
   "source": [
    "train_lab = train.copy() #creating copies of train and test sets\n",
    "test_lab = test.copy()"
   ]
  },
  {
   "cell_type": "code",
   "execution_count": 93,
   "metadata": {
    "collapsed": true
   },
   "outputs": [],
   "source": [
    "train_lab = train_lab.drop(['PassengerId','Survived'],axis=1)\n",
    "test_lab = test_lab.drop(['PassengerId'],axis=1)"
   ]
  },
  {
   "cell_type": "code",
   "execution_count": 94,
   "metadata": {},
   "outputs": [
    {
     "data": {
      "text/plain": [
       "(1309, 14)"
      ]
     },
     "execution_count": 94,
     "metadata": {},
     "output_type": "execute_result"
    }
   ],
   "source": [
    "all_data = pd.concat([train_lab,test_lab]).reset_index(drop=True)\n",
    "all_data.shape"
   ]
  },
  {
   "cell_type": "code",
   "execution_count": 95,
   "metadata": {
    "collapsed": true
   },
   "outputs": [],
   "source": [
    "cols = ('Name','Sex','Ticket','Embarked','Cabin_y')"
   ]
  },
  {
   "cell_type": "code",
   "execution_count": 96,
   "metadata": {
    "collapsed": true
   },
   "outputs": [],
   "source": [
    "from sklearn.preprocessing import LabelEncoder\n",
    "\n",
    "label_df = all_data.copy()\n",
    "\n",
    "for c in cols:\n",
    "    if label_df[c].dtype == 'object':\n",
    "        le = LabelEncoder()\n",
    "        label_df[c] = le.fit_transform(label_df[c].astype(str))"
   ]
  },
  {
   "cell_type": "code",
   "execution_count": 97,
   "metadata": {},
   "outputs": [
    {
     "data": {
      "text/html": [
       "<div>\n",
       "<style>\n",
       "    .dataframe thead tr:only-child th {\n",
       "        text-align: right;\n",
       "    }\n",
       "\n",
       "    .dataframe thead th {\n",
       "        text-align: left;\n",
       "    }\n",
       "\n",
       "    .dataframe tbody tr th {\n",
       "        vertical-align: top;\n",
       "    }\n",
       "</style>\n",
       "<table border=\"1\" class=\"dataframe\">\n",
       "  <thead>\n",
       "    <tr style=\"text-align: right;\">\n",
       "      <th></th>\n",
       "      <th>index</th>\n",
       "      <th>Pclass</th>\n",
       "      <th>Name</th>\n",
       "      <th>Sex</th>\n",
       "      <th>Age</th>\n",
       "      <th>SibSp</th>\n",
       "      <th>Parch</th>\n",
       "      <th>Ticket</th>\n",
       "      <th>Fare</th>\n",
       "      <th>Cabin_x</th>\n",
       "      <th>Embarked</th>\n",
       "      <th>FamMembers</th>\n",
       "      <th>LoneTravel</th>\n",
       "      <th>Cabin_y</th>\n",
       "    </tr>\n",
       "  </thead>\n",
       "  <tbody>\n",
       "    <tr>\n",
       "      <th>0</th>\n",
       "      <td>0</td>\n",
       "      <td>3</td>\n",
       "      <td>155</td>\n",
       "      <td>1</td>\n",
       "      <td>22.0</td>\n",
       "      <td>1</td>\n",
       "      <td>0</td>\n",
       "      <td>720</td>\n",
       "      <td>7.2500</td>\n",
       "      <td>NaN</td>\n",
       "      <td>2</td>\n",
       "      <td>1</td>\n",
       "      <td>1</td>\n",
       "      <td>186</td>\n",
       "    </tr>\n",
       "    <tr>\n",
       "      <th>1</th>\n",
       "      <td>1</td>\n",
       "      <td>1</td>\n",
       "      <td>286</td>\n",
       "      <td>0</td>\n",
       "      <td>38.0</td>\n",
       "      <td>1</td>\n",
       "      <td>0</td>\n",
       "      <td>816</td>\n",
       "      <td>71.2833</td>\n",
       "      <td>C85</td>\n",
       "      <td>0</td>\n",
       "      <td>1</td>\n",
       "      <td>1</td>\n",
       "      <td>106</td>\n",
       "    </tr>\n",
       "    <tr>\n",
       "      <th>2</th>\n",
       "      <td>2</td>\n",
       "      <td>3</td>\n",
       "      <td>523</td>\n",
       "      <td>0</td>\n",
       "      <td>26.0</td>\n",
       "      <td>0</td>\n",
       "      <td>0</td>\n",
       "      <td>914</td>\n",
       "      <td>7.9250</td>\n",
       "      <td>NaN</td>\n",
       "      <td>2</td>\n",
       "      <td>0</td>\n",
       "      <td>0</td>\n",
       "      <td>186</td>\n",
       "    </tr>\n",
       "    <tr>\n",
       "      <th>3</th>\n",
       "      <td>3</td>\n",
       "      <td>1</td>\n",
       "      <td>422</td>\n",
       "      <td>0</td>\n",
       "      <td>35.0</td>\n",
       "      <td>1</td>\n",
       "      <td>0</td>\n",
       "      <td>65</td>\n",
       "      <td>53.1000</td>\n",
       "      <td>C123</td>\n",
       "      <td>2</td>\n",
       "      <td>1</td>\n",
       "      <td>1</td>\n",
       "      <td>70</td>\n",
       "    </tr>\n",
       "    <tr>\n",
       "      <th>4</th>\n",
       "      <td>4</td>\n",
       "      <td>3</td>\n",
       "      <td>22</td>\n",
       "      <td>1</td>\n",
       "      <td>35.0</td>\n",
       "      <td>0</td>\n",
       "      <td>0</td>\n",
       "      <td>649</td>\n",
       "      <td>8.0500</td>\n",
       "      <td>NaN</td>\n",
       "      <td>2</td>\n",
       "      <td>0</td>\n",
       "      <td>0</td>\n",
       "      <td>186</td>\n",
       "    </tr>\n",
       "  </tbody>\n",
       "</table>\n",
       "</div>"
      ],
      "text/plain": [
       "   index  Pclass  Name  Sex   Age  SibSp  Parch  Ticket     Fare Cabin_x  \\\n",
       "0      0       3   155    1  22.0      1      0     720   7.2500     NaN   \n",
       "1      1       1   286    0  38.0      1      0     816  71.2833     C85   \n",
       "2      2       3   523    0  26.0      0      0     914   7.9250     NaN   \n",
       "3      3       1   422    0  35.0      1      0      65  53.1000    C123   \n",
       "4      4       3    22    1  35.0      0      0     649   8.0500     NaN   \n",
       "\n",
       "   Embarked  FamMembers  LoneTravel  Cabin_y  \n",
       "0         2           1           1      186  \n",
       "1         0           1           1      106  \n",
       "2         2           0           0      186  \n",
       "3         2           1           1       70  \n",
       "4         2           0           0      186  "
      ]
     },
     "execution_count": 97,
     "metadata": {},
     "output_type": "execute_result"
    }
   ],
   "source": [
    "label_df.head()"
   ]
  },
  {
   "cell_type": "code",
   "execution_count": 98,
   "metadata": {},
   "outputs": [
    {
     "data": {
      "text/plain": [
       "index           int64\n",
       "Pclass          int64\n",
       "Name            int64\n",
       "Sex             int64\n",
       "Age           float64\n",
       "SibSp           int64\n",
       "Parch           int64\n",
       "Ticket          int64\n",
       "Fare          float64\n",
       "Cabin_x        object\n",
       "Embarked        int64\n",
       "FamMembers      int64\n",
       "LoneTravel      int64\n",
       "Cabin_y         int64\n",
       "dtype: object"
      ]
     },
     "execution_count": 98,
     "metadata": {},
     "output_type": "execute_result"
    }
   ],
   "source": [
    "label_df.dtypes"
   ]
  },
  {
   "cell_type": "code",
   "execution_count": 99,
   "metadata": {
    "collapsed": true
   },
   "outputs": [],
   "source": [
    "all_data = label_df"
   ]
  },
  {
   "cell_type": "code",
   "execution_count": 100,
   "metadata": {
    "collapsed": true
   },
   "outputs": [],
   "source": [
    "ntrain = train.shape[0]\n",
    "ntest = test.shape[0]"
   ]
  },
  {
   "cell_type": "code",
   "execution_count": 101,
   "metadata": {
    "collapsed": true
   },
   "outputs": [],
   "source": [
    "train_lab = all_data[:ntrain]\n",
    "test_lab = all_data[ntrain:]"
   ]
  },
  {
   "cell_type": "markdown",
   "metadata": {},
   "source": [
    "Imputing Age with MICE"
   ]
  },
  {
   "cell_type": "code",
   "execution_count": 102,
   "metadata": {
    "collapsed": true
   },
   "outputs": [],
   "source": [
    "train_mat = train_lab.select_dtypes(include=['number']).as_matrix()\n",
    "test_mat = test_lab.select_dtypes(include=['number']).as_matrix()"
   ]
  },
  {
   "cell_type": "code",
   "execution_count": 103,
   "metadata": {},
   "outputs": [
    {
     "name": "stdout",
     "output_type": "stream",
     "text": [
      "[MICE] Completing matrix with shape (891, 13)\n",
      "[MICE] Starting imputation round 1/110, elapsed time 0.002\n",
      "[MICE] Starting imputation round 2/110, elapsed time 0.003\n",
      "[MICE] Starting imputation round 3/110, elapsed time 0.003\n",
      "[MICE] Starting imputation round 4/110, elapsed time 0.003\n",
      "[MICE] Starting imputation round 5/110, elapsed time 0.003\n",
      "[MICE] Starting imputation round 6/110, elapsed time 0.003\n",
      "[MICE] Starting imputation round 7/110, elapsed time 0.003\n",
      "[MICE] Starting imputation round 8/110, elapsed time 0.003\n",
      "[MICE] Starting imputation round 9/110, elapsed time 0.003\n",
      "[MICE] Starting imputation round 10/110, elapsed time 0.003\n",
      "[MICE] Starting imputation round 11/110, elapsed time 0.003\n",
      "[MICE] Starting imputation round 12/110, elapsed time 0.003\n",
      "[MICE] Starting imputation round 13/110, elapsed time 0.003\n",
      "[MICE] Starting imputation round 14/110, elapsed time 0.003\n",
      "[MICE] Starting imputation round 15/110, elapsed time 0.003\n",
      "[MICE] Starting imputation round 16/110, elapsed time 0.019\n",
      "[MICE] Starting imputation round 17/110, elapsed time 0.020\n",
      "[MICE] Starting imputation round 18/110, elapsed time 0.021\n",
      "[MICE] Starting imputation round 19/110, elapsed time 0.021\n",
      "[MICE] Starting imputation round 20/110, elapsed time 0.021\n",
      "[MICE] Starting imputation round 21/110, elapsed time 0.021\n",
      "[MICE] Starting imputation round 22/110, elapsed time 0.021\n",
      "[MICE] Starting imputation round 23/110, elapsed time 0.021\n",
      "[MICE] Starting imputation round 24/110, elapsed time 0.021\n",
      "[MICE] Starting imputation round 25/110, elapsed time 0.021\n",
      "[MICE] Starting imputation round 26/110, elapsed time 0.021\n",
      "[MICE] Starting imputation round 27/110, elapsed time 0.021\n",
      "[MICE] Starting imputation round 28/110, elapsed time 0.021\n",
      "[MICE] Starting imputation round 29/110, elapsed time 0.021\n",
      "[MICE] Starting imputation round 30/110, elapsed time 0.021\n",
      "[MICE] Starting imputation round 31/110, elapsed time 0.021\n",
      "[MICE] Starting imputation round 32/110, elapsed time 0.036\n",
      "[MICE] Starting imputation round 33/110, elapsed time 0.036\n",
      "[MICE] Starting imputation round 34/110, elapsed time 0.036\n",
      "[MICE] Starting imputation round 35/110, elapsed time 0.036\n",
      "[MICE] Starting imputation round 36/110, elapsed time 0.036\n",
      "[MICE] Starting imputation round 37/110, elapsed time 0.036\n",
      "[MICE] Starting imputation round 38/110, elapsed time 0.036\n",
      "[MICE] Starting imputation round 39/110, elapsed time 0.036\n",
      "[MICE] Starting imputation round 40/110, elapsed time 0.036\n",
      "[MICE] Starting imputation round 41/110, elapsed time 0.036\n",
      "[MICE] Starting imputation round 42/110, elapsed time 0.036\n",
      "[MICE] Starting imputation round 43/110, elapsed time 0.036\n",
      "[MICE] Starting imputation round 44/110, elapsed time 0.049\n",
      "[MICE] Starting imputation round 45/110, elapsed time 0.050\n",
      "[MICE] Starting imputation round 46/110, elapsed time 0.050\n",
      "[MICE] Starting imputation round 47/110, elapsed time 0.050\n",
      "[MICE] Starting imputation round 48/110, elapsed time 0.050\n",
      "[MICE] Starting imputation round 49/110, elapsed time 0.050\n",
      "[MICE] Starting imputation round 50/110, elapsed time 0.050\n",
      "[MICE] Starting imputation round 51/110, elapsed time 0.050\n",
      "[MICE] Starting imputation round 52/110, elapsed time 0.050\n",
      "[MICE] Starting imputation round 53/110, elapsed time 0.050\n",
      "[MICE] Starting imputation round 54/110, elapsed time 0.050\n",
      "[MICE] Starting imputation round 55/110, elapsed time 0.050\n",
      "[MICE] Starting imputation round 56/110, elapsed time 0.050\n",
      "[MICE] Starting imputation round 57/110, elapsed time 0.050\n",
      "[MICE] Starting imputation round 58/110, elapsed time 0.050\n",
      "[MICE] Starting imputation round 59/110, elapsed time 0.066\n",
      "[MICE] Starting imputation round 60/110, elapsed time 0.067\n",
      "[MICE] Starting imputation round 61/110, elapsed time 0.068\n",
      "[MICE] Starting imputation round 62/110, elapsed time 0.069\n",
      "[MICE] Starting imputation round 63/110, elapsed time 0.070\n",
      "[MICE] Starting imputation round 64/110, elapsed time 0.071\n",
      "[MICE] Starting imputation round 65/110, elapsed time 0.072\n",
      "[MICE] Starting imputation round 66/110, elapsed time 0.073\n",
      "[MICE] Starting imputation round 67/110, elapsed time 0.074\n",
      "[MICE] Starting imputation round 68/110, elapsed time 0.075\n",
      "[MICE] Starting imputation round 69/110, elapsed time 0.076\n",
      "[MICE] Starting imputation round 70/110, elapsed time 0.077\n",
      "[MICE] Starting imputation round 71/110, elapsed time 0.077\n",
      "[MICE] Starting imputation round 72/110, elapsed time 0.077\n",
      "[MICE] Starting imputation round 73/110, elapsed time 0.077\n",
      "[MICE] Starting imputation round 74/110, elapsed time 0.077\n",
      "[MICE] Starting imputation round 75/110, elapsed time 0.077\n",
      "[MICE] Starting imputation round 76/110, elapsed time 0.077\n",
      "[MICE] Starting imputation round 77/110, elapsed time 0.077\n",
      "[MICE] Starting imputation round 78/110, elapsed time 0.077\n",
      "[MICE] Starting imputation round 79/110, elapsed time 0.077\n",
      "[MICE] Starting imputation round 80/110, elapsed time 0.077\n",
      "[MICE] Starting imputation round 81/110, elapsed time 0.077\n",
      "[MICE] Starting imputation round 82/110, elapsed time 0.077\n",
      "[MICE] Starting imputation round 83/110, elapsed time 0.077\n",
      "[MICE] Starting imputation round 84/110, elapsed time 0.093\n",
      "[MICE] Starting imputation round 85/110, elapsed time 0.094\n",
      "[MICE] Starting imputation round 86/110, elapsed time 0.095\n",
      "[MICE] Starting imputation round 87/110, elapsed time 0.096\n",
      "[MICE] Starting imputation round 88/110, elapsed time 0.097\n",
      "[MICE] Starting imputation round 89/110, elapsed time 0.097\n",
      "[MICE] Starting imputation round 90/110, elapsed time 0.097\n",
      "[MICE] Starting imputation round 91/110, elapsed time 0.097\n",
      "[MICE] Starting imputation round 92/110, elapsed time 0.101\n",
      "[MICE] Starting imputation round 93/110, elapsed time 0.101\n",
      "[MICE] Starting imputation round 94/110, elapsed time 0.101\n",
      "[MICE] Starting imputation round 95/110, elapsed time 0.101\n",
      "[MICE] Starting imputation round 96/110, elapsed time 0.101\n",
      "[MICE] Starting imputation round 97/110, elapsed time 0.101\n",
      "[MICE] Starting imputation round 98/110, elapsed time 0.101\n",
      "[MICE] Starting imputation round 99/110, elapsed time 0.101\n",
      "[MICE] Starting imputation round 100/110, elapsed time 0.101\n",
      "[MICE] Starting imputation round 101/110, elapsed time 0.101\n",
      "[MICE] Starting imputation round 102/110, elapsed time 0.101\n",
      "[MICE] Starting imputation round 103/110, elapsed time 0.101\n",
      "[MICE] Starting imputation round 104/110, elapsed time 0.101\n",
      "[MICE] Starting imputation round 105/110, elapsed time 0.101\n",
      "[MICE] Starting imputation round 106/110, elapsed time 0.101\n",
      "[MICE] Starting imputation round 107/110, elapsed time 0.117\n",
      "[MICE] Starting imputation round 108/110, elapsed time 0.118\n",
      "[MICE] Starting imputation round 109/110, elapsed time 0.119\n",
      "[MICE] Starting imputation round 110/110, elapsed time 0.120\n",
      "[MICE] Completing matrix with shape (418, 13)\n",
      "[MICE] Starting imputation round 1/110, elapsed time 0.000\n",
      "[MICE] Starting imputation round 2/110, elapsed time 0.001\n",
      "[MICE] Starting imputation round 3/110, elapsed time 0.003\n",
      "[MICE] Starting imputation round 4/110, elapsed time 0.004\n",
      "[MICE] Starting imputation round 5/110, elapsed time 0.006\n",
      "[MICE] Starting imputation round 6/110, elapsed time 0.006\n",
      "[MICE] Starting imputation round 7/110, elapsed time 0.010\n",
      "[MICE] Starting imputation round 8/110, elapsed time 0.011\n",
      "[MICE] Starting imputation round 9/110, elapsed time 0.011\n",
      "[MICE] Starting imputation round 10/110, elapsed time 0.011\n",
      "[MICE] Starting imputation round 11/110, elapsed time 0.016\n",
      "[MICE] Starting imputation round 12/110, elapsed time 0.016\n",
      "[MICE] Starting imputation round 13/110, elapsed time 0.016\n",
      "[MICE] Starting imputation round 14/110, elapsed time 0.020\n",
      "[MICE] Starting imputation round 15/110, elapsed time 0.020\n",
      "[MICE] Starting imputation round 16/110, elapsed time 0.024\n",
      "[MICE] Starting imputation round 17/110, elapsed time 0.025\n",
      "[MICE] Starting imputation round 18/110, elapsed time 0.025\n",
      "[MICE] Starting imputation round 19/110, elapsed time 0.025\n",
      "[MICE] Starting imputation round 20/110, elapsed time 0.025\n",
      "[MICE] Starting imputation round 21/110, elapsed time 0.025\n",
      "[MICE] Starting imputation round 22/110, elapsed time 0.025\n",
      "[MICE] Starting imputation round 23/110, elapsed time 0.025\n",
      "[MICE] Starting imputation round 24/110, elapsed time 0.025\n",
      "[MICE] Starting imputation round 25/110, elapsed time 0.025\n",
      "[MICE] Starting imputation round 26/110, elapsed time 0.025\n",
      "[MICE] Starting imputation round 27/110, elapsed time 0.025\n",
      "[MICE] Starting imputation round 28/110, elapsed time 0.041\n",
      "[MICE] Starting imputation round 29/110, elapsed time 0.042\n",
      "[MICE] Starting imputation round 30/110, elapsed time 0.043\n",
      "[MICE] Starting imputation round 31/110, elapsed time 0.043\n",
      "[MICE] Starting imputation round 32/110, elapsed time 0.043\n",
      "[MICE] Starting imputation round 33/110, elapsed time 0.043\n",
      "[MICE] Starting imputation round 34/110, elapsed time 0.043\n",
      "[MICE] Starting imputation round 35/110, elapsed time 0.043\n",
      "[MICE] Starting imputation round 36/110, elapsed time 0.043\n",
      "[MICE] Starting imputation round 37/110, elapsed time 0.043\n",
      "[MICE] Starting imputation round 38/110, elapsed time 0.043\n",
      "[MICE] Starting imputation round 39/110, elapsed time 0.043\n",
      "[MICE] Starting imputation round 40/110, elapsed time 0.043\n",
      "[MICE] Starting imputation round 41/110, elapsed time 0.058\n",
      "[MICE] Starting imputation round 42/110, elapsed time 0.058\n",
      "[MICE] Starting imputation round 43/110, elapsed time 0.058\n",
      "[MICE] Starting imputation round 44/110, elapsed time 0.058\n",
      "[MICE] Starting imputation round 45/110, elapsed time 0.058\n",
      "[MICE] Starting imputation round 46/110, elapsed time 0.058\n",
      "[MICE] Starting imputation round 47/110, elapsed time 0.058\n",
      "[MICE] Starting imputation round 48/110, elapsed time 0.058\n",
      "[MICE] Starting imputation round 49/110, elapsed time 0.058\n",
      "[MICE] Starting imputation round 50/110, elapsed time 0.058\n",
      "[MICE] Starting imputation round 51/110, elapsed time 0.058\n",
      "[MICE] Starting imputation round 52/110, elapsed time 0.074\n",
      "[MICE] Starting imputation round 53/110, elapsed time 0.075\n",
      "[MICE] Starting imputation round 54/110, elapsed time 0.076\n",
      "[MICE] Starting imputation round 55/110, elapsed time 0.077\n"
     ]
    },
    {
     "name": "stdout",
     "output_type": "stream",
     "text": [
      "[MICE] Starting imputation round 56/110, elapsed time 0.078\n",
      "[MICE] Starting imputation round 57/110, elapsed time 0.078\n",
      "[MICE] Starting imputation round 58/110, elapsed time 0.083\n",
      "[MICE] Starting imputation round 59/110, elapsed time 0.085\n",
      "[MICE] Starting imputation round 60/110, elapsed time 0.085\n",
      "[MICE] Starting imputation round 61/110, elapsed time 0.085\n",
      "[MICE] Starting imputation round 62/110, elapsed time 0.090\n",
      "[MICE] Starting imputation round 63/110, elapsed time 0.090\n",
      "[MICE] Starting imputation round 64/110, elapsed time 0.090\n",
      "[MICE] Starting imputation round 65/110, elapsed time 0.090\n",
      "[MICE] Starting imputation round 66/110, elapsed time 0.094\n",
      "[MICE] Starting imputation round 67/110, elapsed time 0.094\n",
      "[MICE] Starting imputation round 68/110, elapsed time 0.094\n",
      "[MICE] Starting imputation round 69/110, elapsed time 0.094\n",
      "[MICE] Starting imputation round 70/110, elapsed time 0.098\n",
      "[MICE] Starting imputation round 71/110, elapsed time 0.098\n",
      "[MICE] Starting imputation round 72/110, elapsed time 0.098\n",
      "[MICE] Starting imputation round 73/110, elapsed time 0.098\n",
      "[MICE] Starting imputation round 74/110, elapsed time 0.102\n",
      "[MICE] Starting imputation round 75/110, elapsed time 0.102\n",
      "[MICE] Starting imputation round 76/110, elapsed time 0.102\n",
      "[MICE] Starting imputation round 77/110, elapsed time 0.102\n",
      "[MICE] Starting imputation round 78/110, elapsed time 0.102\n",
      "[MICE] Starting imputation round 79/110, elapsed time 0.106\n",
      "[MICE] Starting imputation round 80/110, elapsed time 0.107\n",
      "[MICE] Starting imputation round 81/110, elapsed time 0.107\n",
      "[MICE] Starting imputation round 82/110, elapsed time 0.107\n",
      "[MICE] Starting imputation round 83/110, elapsed time 0.107\n",
      "[MICE] Starting imputation round 84/110, elapsed time 0.111\n",
      "[MICE] Starting imputation round 85/110, elapsed time 0.111\n",
      "[MICE] Starting imputation round 86/110, elapsed time 0.111\n",
      "[MICE] Starting imputation round 87/110, elapsed time 0.114\n",
      "[MICE] Starting imputation round 88/110, elapsed time 0.115\n",
      "[MICE] Starting imputation round 89/110, elapsed time 0.116\n",
      "[MICE] Starting imputation round 90/110, elapsed time 0.117\n",
      "[MICE] Starting imputation round 91/110, elapsed time 0.119\n",
      "[MICE] Starting imputation round 92/110, elapsed time 0.121\n",
      "[MICE] Starting imputation round 93/110, elapsed time 0.122\n",
      "[MICE] Starting imputation round 94/110, elapsed time 0.122\n",
      "[MICE] Starting imputation round 95/110, elapsed time 0.122\n",
      "[MICE] Starting imputation round 96/110, elapsed time 0.122\n",
      "[MICE] Starting imputation round 97/110, elapsed time 0.126\n",
      "[MICE] Starting imputation round 98/110, elapsed time 0.127\n",
      "[MICE] Starting imputation round 99/110, elapsed time 0.127\n",
      "[MICE] Starting imputation round 100/110, elapsed time 0.127\n",
      "[MICE] Starting imputation round 101/110, elapsed time 0.127\n",
      "[MICE] Starting imputation round 102/110, elapsed time 0.127\n",
      "[MICE] Starting imputation round 103/110, elapsed time 0.132\n",
      "[MICE] Starting imputation round 104/110, elapsed time 0.133\n",
      "[MICE] Starting imputation round 105/110, elapsed time 0.133\n",
      "[MICE] Starting imputation round 106/110, elapsed time 0.133\n",
      "[MICE] Starting imputation round 107/110, elapsed time 0.133\n",
      "[MICE] Starting imputation round 108/110, elapsed time 0.133\n",
      "[MICE] Starting imputation round 109/110, elapsed time 0.137\n",
      "[MICE] Starting imputation round 110/110, elapsed time 0.138\n"
     ]
    }
   ],
   "source": [
    "from fancyimpute import MICE\n",
    "\n",
    "mice = MICE(n_imputations=100,impute_type='col')\n",
    "\n",
    "train_imputed = mice.complete(train_mat)\n",
    "test_imputed = mice.complete(test_mat)"
   ]
  },
  {
   "cell_type": "code",
   "execution_count": 104,
   "metadata": {},
   "outputs": [],
   "source": [
    "train_cols = train_lab[['index','Pclass','Name','Sex','Age','SibSp','Parch','Ticket','Fare','Embarked','FamMembers','LoneTravel','Cabin_y']].columns\n",
    "test_cols = test_lab[['index','Pclass','Name','Sex','Age','SibSp','Parch','Ticket','Fare','Embarked','FamMembers','LoneTravel','Cabin_y']].columns\n",
    "\n",
    "train_imputed = pd.DataFrame(train_imputed, columns=train_cols)\n",
    "test_imputed = pd.DataFrame(test_imputed, columns=test_cols)"
   ]
  },
  {
   "cell_type": "code",
   "execution_count": 105,
   "metadata": {},
   "outputs": [
    {
     "name": "stdout",
     "output_type": "stream",
     "text": [
      "False    891\n",
      "Name: Age, dtype: int64\n",
      "False    418\n",
      "Name: Age, dtype: int64\n"
     ]
    }
   ],
   "source": [
    "print(train_imputed['Age'].isnull().value_counts()) #ensuring that there are no missing age values\n",
    "print(test_imputed['Age'].isnull().value_counts())"
   ]
  },
  {
   "cell_type": "code",
   "execution_count": 106,
   "metadata": {},
   "outputs": [
    {
     "name": "stdout",
     "output_type": "stream",
     "text": [
      "Pre-Imputation Age Mean: 29.69911764705882\n",
      "Post-Imputation Age Mean: 29.661681888539757\n",
      "Pre-Imputation SD: 14.526497332334044\n",
      "Post-Imputation SD: 13.051928588584154\n"
     ]
    }
   ],
   "source": [
    "print('Pre-Imputation Age Mean:',train['Age'].mean())\n",
    "print('Post-Imputation Age Mean:',train_imputed['Age'].mean())\n",
    "print('Pre-Imputation SD:',train['Age'].std())\n",
    "print('Post-Imputation SD:',train_imputed['Age'].std())"
   ]
  },
  {
   "cell_type": "markdown",
   "metadata": {},
   "source": [
    "Delete columns not needed from training and test sets"
   ]
  },
  {
   "cell_type": "code",
   "execution_count": 107,
   "metadata": {
    "collapsed": true
   },
   "outputs": [],
   "source": [
    "train_imputed = train_imputed.drop(['index','SibSp','Parch'],axis=1)\n",
    "test_imputed = test_imputed.drop(['index','SibSp','Parch'],axis=1)"
   ]
  },
  {
   "cell_type": "markdown",
   "metadata": {},
   "source": [
    "Train-test split!"
   ]
  },
  {
   "cell_type": "code",
   "execution_count": 110,
   "metadata": {},
   "outputs": [],
   "source": [
    "train_y = train['Survived']"
   ]
  },
  {
   "cell_type": "code",
   "execution_count": 112,
   "metadata": {},
   "outputs": [],
   "source": [
    "from sklearn.model_selection import train_test_split\n",
    "\n",
    "X_train, X_test, y_train, y_test = train_test_split(train_imputed, train_y, test_size=.33, random_state=43)"
   ]
  },
  {
   "cell_type": "markdown",
   "metadata": {},
   "source": [
    "## Random Forest Classifier"
   ]
  },
  {
   "cell_type": "code",
   "execution_count": 113,
   "metadata": {},
   "outputs": [
    {
     "data": {
      "text/plain": [
       "RandomForestClassifier(bootstrap=True, class_weight=None, criterion='gini',\n",
       "            max_depth=None, max_features='auto', max_leaf_nodes=None,\n",
       "            min_impurity_decrease=0.0, min_impurity_split=None,\n",
       "            min_samples_leaf=1, min_samples_split=2,\n",
       "            min_weight_fraction_leaf=0.0, n_estimators=10, n_jobs=-1,\n",
       "            oob_score=False, random_state=None, verbose=0,\n",
       "            warm_start=False)"
      ]
     },
     "execution_count": 113,
     "metadata": {},
     "output_type": "execute_result"
    }
   ],
   "source": [
    "from sklearn.ensemble import RandomForestClassifier\n",
    "\n",
    "rf = RandomForestClassifier(n_jobs=-1) #first try using default hyperparameters, no class weights\n",
    "\n",
    "rf.fit(X_train,y_train)"
   ]
  },
  {
   "cell_type": "code",
   "execution_count": 114,
   "metadata": {
    "collapsed": true
   },
   "outputs": [],
   "source": [
    "predictions = rf.predict(X_train)"
   ]
  },
  {
   "cell_type": "code",
   "execution_count": 115,
   "metadata": {},
   "outputs": [
    {
     "data": {
      "text/plain": [
       "array([[364,   2],\n",
       "       [  8, 222]], dtype=int64)"
      ]
     },
     "execution_count": 115,
     "metadata": {},
     "output_type": "execute_result"
    }
   ],
   "source": [
    "from sklearn.metrics import confusion_matrix\n",
    "\n",
    "confusion_matrix(y_train,predictions)"
   ]
  },
  {
   "cell_type": "code",
   "execution_count": 116,
   "metadata": {},
   "outputs": [
    {
     "data": {
      "text/plain": [
       "0.97987645521501543"
      ]
     },
     "execution_count": 116,
     "metadata": {},
     "output_type": "execute_result"
    }
   ],
   "source": [
    "from sklearn.metrics import roc_auc_score\n",
    "\n",
    "roc_auc_score(y_train,predictions)"
   ]
  },
  {
   "cell_type": "code",
   "execution_count": 117,
   "metadata": {},
   "outputs": [
    {
     "data": {
      "text/plain": [
       "0.97002219767393383"
      ]
     },
     "execution_count": 117,
     "metadata": {},
     "output_type": "execute_result"
    }
   ],
   "source": [
    "from sklearn.metrics import average_precision_score\n",
    "\n",
    "average_precision_score(y_train,predictions)"
   ]
  },
  {
   "cell_type": "markdown",
   "metadata": {},
   "source": [
    "Grid search w/o class weights"
   ]
  },
  {
   "cell_type": "code",
   "execution_count": 119,
   "metadata": {},
   "outputs": [
    {
     "data": {
      "text/plain": [
       "GridSearchCV(cv=5, error_score='raise',\n",
       "       estimator=RandomForestClassifier(bootstrap=True, class_weight=None, criterion='gini',\n",
       "            max_depth=None, max_features='auto', max_leaf_nodes=None,\n",
       "            min_impurity_decrease=0.0, min_impurity_split=None,\n",
       "            min_samples_leaf=1, min_samples_split=2,\n",
       "            min_weight_fraction_leaf=0.0, n_estimators=10, n_jobs=-1,\n",
       "            oob_score=False, random_state=None, verbose=0,\n",
       "            warm_start=False),\n",
       "       fit_params=None, iid=True, n_jobs=1,\n",
       "       param_grid=[{'n_estimators': [150, 200, 350, 500], 'max_features': [2, 3, 4], 'max_depth': [2, 3, 4, 5], 'random_state': [43]}],\n",
       "       pre_dispatch='2*n_jobs', refit=True, return_train_score='warn',\n",
       "       scoring=None, verbose=0)"
      ]
     },
     "execution_count": 119,
     "metadata": {},
     "output_type": "execute_result"
    }
   ],
   "source": [
    "from sklearn.model_selection import GridSearchCV\n",
    "\n",
    "param_grid = [{'n_estimators':[150,200,350,500],'max_features':[2,3,4],'max_depth':[2,3,4,5],'random_state':[43]}]\n",
    "grid_search = GridSearchCV(rf,param_grid,cv=5)\n",
    "grid_search.fit(X_train,y_train)"
   ]
  },
  {
   "cell_type": "code",
   "execution_count": 120,
   "metadata": {},
   "outputs": [
    {
     "data": {
      "text/plain": [
       "{'max_depth': 4, 'max_features': 3, 'n_estimators': 350, 'random_state': 43}"
      ]
     },
     "execution_count": 120,
     "metadata": {},
     "output_type": "execute_result"
    }
   ],
   "source": [
    "grid_search.best_params_"
   ]
  },
  {
   "cell_type": "code",
   "execution_count": 135,
   "metadata": {},
   "outputs": [
    {
     "data": {
      "text/plain": [
       "RandomForestClassifier(bootstrap=True, class_weight=None, criterion='gini',\n",
       "            max_depth=4, max_features=3, max_leaf_nodes=None,\n",
       "            min_impurity_decrease=0.0, min_impurity_split=None,\n",
       "            min_samples_leaf=1, min_samples_split=2,\n",
       "            min_weight_fraction_leaf=0.0, n_estimators=350, n_jobs=1,\n",
       "            oob_score=False, random_state=43, verbose=0, warm_start=False)"
      ]
     },
     "execution_count": 135,
     "metadata": {},
     "output_type": "execute_result"
    }
   ],
   "source": [
    "best_rf = RandomForestClassifier(max_depth=4,max_features=3,n_estimators=350,random_state=43) #fitting model with best params\n",
    "# obtained through gridsearch\n",
    "best_rf.fit(X_train,y_train)"
   ]
  },
  {
   "cell_type": "code",
   "execution_count": 136,
   "metadata": {
    "collapsed": true
   },
   "outputs": [],
   "source": [
    "predictions = best_rf.predict(X_train)"
   ]
  },
  {
   "cell_type": "code",
   "execution_count": 137,
   "metadata": {},
   "outputs": [
    {
     "data": {
      "text/plain": [
       "array([[345,  21],\n",
       "       [ 54, 176]], dtype=int64)"
      ]
     },
     "execution_count": 137,
     "metadata": {},
     "output_type": "execute_result"
    }
   ],
   "source": [
    "from sklearn.metrics import confusion_matrix\n",
    "\n",
    "confusion_matrix(y_train,predictions)"
   ]
  },
  {
   "cell_type": "code",
   "execution_count": 138,
   "metadata": {},
   "outputs": [
    {
     "data": {
      "text/plain": [
       "0.85392017106201012"
      ]
     },
     "execution_count": 138,
     "metadata": {},
     "output_type": "execute_result"
    }
   ],
   "source": [
    "from sklearn.metrics import roc_auc_score\n",
    "\n",
    "roc_auc_score(y_train,predictions)"
   ]
  },
  {
   "cell_type": "code",
   "execution_count": 139,
   "metadata": {},
   "outputs": [
    {
     "data": {
      "text/plain": [
       "0.77425002110739005"
      ]
     },
     "execution_count": 139,
     "metadata": {},
     "output_type": "execute_result"
    }
   ],
   "source": [
    "from sklearn.metrics import average_precision_score\n",
    "\n",
    "average_precision_score(y_train,predictions)"
   ]
  },
  {
   "cell_type": "markdown",
   "metadata": {},
   "source": [
    "Trying the same grid search using class weights"
   ]
  },
  {
   "cell_type": "code",
   "execution_count": 127,
   "metadata": {},
   "outputs": [
    {
     "data": {
      "text/plain": [
       "GridSearchCV(cv=5, error_score='raise',\n",
       "       estimator=RandomForestClassifier(bootstrap=True, class_weight=None, criterion='gini',\n",
       "            max_depth=None, max_features='auto', max_leaf_nodes=None,\n",
       "            min_impurity_decrease=0.0, min_impurity_split=None,\n",
       "            min_samples_leaf=1, min_samples_split=2,\n",
       "            min_weight_fraction_leaf=0.0, n_estimators=10, n_jobs=-1,\n",
       "            oob_score=False, random_state=None, verbose=0,\n",
       "            warm_start=False),\n",
       "       fit_params=None, iid=True, n_jobs=1,\n",
       "       param_grid=[{'n_estimators': [150, 200, 350, 500], 'max_features': [2, 3, 4], 'max_depth': [2, 3, 4, 5], 'random_state': [43], 'class_weight': ['balanced']}],\n",
       "       pre_dispatch='2*n_jobs', refit=True, return_train_score='warn',\n",
       "       scoring=None, verbose=0)"
      ]
     },
     "execution_count": 127,
     "metadata": {},
     "output_type": "execute_result"
    }
   ],
   "source": [
    "from sklearn.model_selection import GridSearchCV\n",
    "\n",
    "param_grid = [{'n_estimators':[150,200,350,500],'max_features':[2,3,4],'max_depth':[2,3,4,5],'random_state':[43],'class_weight':['balanced']}]\n",
    "grid_search = GridSearchCV(rf,param_grid,cv=5)\n",
    "grid_search.fit(X_train,y_train)"
   ]
  },
  {
   "cell_type": "code",
   "execution_count": 128,
   "metadata": {},
   "outputs": [
    {
     "data": {
      "text/plain": [
       "{'class_weight': 'balanced',\n",
       " 'max_depth': 3,\n",
       " 'max_features': 4,\n",
       " 'n_estimators': 150,\n",
       " 'random_state': 43}"
      ]
     },
     "execution_count": 128,
     "metadata": {},
     "output_type": "execute_result"
    }
   ],
   "source": [
    "grid_search.best_params_"
   ]
  },
  {
   "cell_type": "code",
   "execution_count": 129,
   "metadata": {},
   "outputs": [
    {
     "data": {
      "text/plain": [
       "RandomForestClassifier(bootstrap=True, class_weight='balanced',\n",
       "            criterion='gini', max_depth=3, max_features=4,\n",
       "            max_leaf_nodes=None, min_impurity_decrease=0.0,\n",
       "            min_impurity_split=None, min_samples_leaf=1,\n",
       "            min_samples_split=2, min_weight_fraction_leaf=0.0,\n",
       "            n_estimators=150, n_jobs=-1, oob_score=False, random_state=43,\n",
       "            verbose=0, warm_start=False)"
      ]
     },
     "execution_count": 129,
     "metadata": {},
     "output_type": "execute_result"
    }
   ],
   "source": [
    "best_rf2 = RandomForestClassifier(class_weight='balanced',max_depth=3,max_features=4,n_estimators=150,random_state=43,n_jobs=-1)\n",
    "best_rf2.fit(X_train,y_train)"
   ]
  },
  {
   "cell_type": "code",
   "execution_count": 130,
   "metadata": {
    "collapsed": true
   },
   "outputs": [],
   "source": [
    "predictions = best_rf2.predict(X_train)"
   ]
  },
  {
   "cell_type": "code",
   "execution_count": 131,
   "metadata": {},
   "outputs": [
    {
     "data": {
      "text/plain": [
       "array([[309,  57],\n",
       "       [ 39, 191]], dtype=int64)"
      ]
     },
     "execution_count": 131,
     "metadata": {},
     "output_type": "execute_result"
    }
   ],
   "source": [
    "from sklearn.metrics import confusion_matrix\n",
    "\n",
    "confusion_matrix(y_train,predictions)"
   ]
  },
  {
   "cell_type": "code",
   "execution_count": 133,
   "metadata": {},
   "outputs": [
    {
     "data": {
      "text/plain": [
       "0.83734853884533134"
      ]
     },
     "execution_count": 133,
     "metadata": {},
     "output_type": "execute_result"
    }
   ],
   "source": [
    "from sklearn.metrics import roc_auc_score\n",
    "\n",
    "roc_auc_score(y_train,predictions)"
   ]
  },
  {
   "cell_type": "code",
   "execution_count": 134,
   "metadata": {},
   "outputs": [
    {
     "data": {
      "text/plain": [
       "0.70500496531340306"
      ]
     },
     "execution_count": 134,
     "metadata": {},
     "output_type": "execute_result"
    }
   ],
   "source": [
    "from sklearn.metrics import average_precision_score\n",
    "\n",
    "average_precision_score(y_train,predictions)"
   ]
  },
  {
   "cell_type": "markdown",
   "metadata": {},
   "source": [
    "Using best random forest model - without class weights - to predict on test subset"
   ]
  },
  {
   "cell_type": "code",
   "execution_count": 140,
   "metadata": {
    "collapsed": true
   },
   "outputs": [],
   "source": [
    "predictions = best_rf.predict(X_test)"
   ]
  },
  {
   "cell_type": "code",
   "execution_count": 141,
   "metadata": {},
   "outputs": [
    {
     "data": {
      "text/plain": [
       "array([[168,  15],\n",
       "       [ 42,  70]], dtype=int64)"
      ]
     },
     "execution_count": 141,
     "metadata": {},
     "output_type": "execute_result"
    }
   ],
   "source": [
    "from sklearn.metrics import confusion_matrix\n",
    "\n",
    "confusion_matrix(y_test,predictions)"
   ]
  },
  {
   "cell_type": "code",
   "execution_count": 142,
   "metadata": {},
   "outputs": [
    {
     "data": {
      "text/plain": [
       "0.77151639344262302"
      ]
     },
     "execution_count": 142,
     "metadata": {},
     "output_type": "execute_result"
    }
   ],
   "source": [
    "from sklearn.metrics import roc_auc_score\n",
    "\n",
    "roc_auc_score(y_test,predictions)"
   ]
  },
  {
   "cell_type": "code",
   "execution_count": 143,
   "metadata": {},
   "outputs": [
    {
     "data": {
      "text/plain": [
       "0.6570787637088733"
      ]
     },
     "execution_count": 143,
     "metadata": {},
     "output_type": "execute_result"
    }
   ],
   "source": [
    "from sklearn.metrics import average_precision_score\n",
    "\n",
    "average_precision_score(y_test,predictions)"
   ]
  },
  {
   "cell_type": "code",
   "execution_count": null,
   "metadata": {
    "collapsed": true
   },
   "outputs": [],
   "source": []
  }
 ],
 "metadata": {
  "kernelspec": {
   "display_name": "Python 3",
   "language": "python",
   "name": "python3"
  },
  "language_info": {
   "codemirror_mode": {
    "name": "ipython",
    "version": 3
   },
   "file_extension": ".py",
   "mimetype": "text/x-python",
   "name": "python",
   "nbconvert_exporter": "python",
   "pygments_lexer": "ipython3",
   "version": "3.6.3"
  }
 },
 "nbformat": 4,
 "nbformat_minor": 2
}
