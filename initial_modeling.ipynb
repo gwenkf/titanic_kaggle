{
 "cells": [
  {
   "cell_type": "markdown",
   "metadata": {},
   "source": [
    "### Initial modeling"
   ]
  },
  {
   "cell_type": "code",
   "execution_count": 1,
   "metadata": {
    "collapsed": true
   },
   "outputs": [],
   "source": [
    "import pandas as pd\n",
    "import numpy as np\n",
    "\n",
    "train = pd.read_csv('train.csv')\n",
    "test = pd.read_csv('test.csv')"
   ]
  },
  {
   "cell_type": "code",
   "execution_count": 2,
   "metadata": {},
   "outputs": [
    {
     "data": {
      "text/html": [
       "<div>\n",
       "<style>\n",
       "    .dataframe thead tr:only-child th {\n",
       "        text-align: right;\n",
       "    }\n",
       "\n",
       "    .dataframe thead th {\n",
       "        text-align: left;\n",
       "    }\n",
       "\n",
       "    .dataframe tbody tr th {\n",
       "        vertical-align: top;\n",
       "    }\n",
       "</style>\n",
       "<table border=\"1\" class=\"dataframe\">\n",
       "  <thead>\n",
       "    <tr style=\"text-align: right;\">\n",
       "      <th></th>\n",
       "      <th>PassengerId</th>\n",
       "      <th>Survived</th>\n",
       "      <th>Pclass</th>\n",
       "      <th>Name</th>\n",
       "      <th>Sex</th>\n",
       "      <th>Age</th>\n",
       "      <th>SibSp</th>\n",
       "      <th>Parch</th>\n",
       "      <th>Ticket</th>\n",
       "      <th>Fare</th>\n",
       "      <th>Cabin</th>\n",
       "      <th>Embarked</th>\n",
       "    </tr>\n",
       "  </thead>\n",
       "  <tbody>\n",
       "    <tr>\n",
       "      <th>0</th>\n",
       "      <td>1</td>\n",
       "      <td>0</td>\n",
       "      <td>3</td>\n",
       "      <td>Braund, Mr. Owen Harris</td>\n",
       "      <td>male</td>\n",
       "      <td>22.0</td>\n",
       "      <td>1</td>\n",
       "      <td>0</td>\n",
       "      <td>A/5 21171</td>\n",
       "      <td>7.2500</td>\n",
       "      <td>NaN</td>\n",
       "      <td>S</td>\n",
       "    </tr>\n",
       "    <tr>\n",
       "      <th>1</th>\n",
       "      <td>2</td>\n",
       "      <td>1</td>\n",
       "      <td>1</td>\n",
       "      <td>Cumings, Mrs. John Bradley (Florence Briggs Th...</td>\n",
       "      <td>female</td>\n",
       "      <td>38.0</td>\n",
       "      <td>1</td>\n",
       "      <td>0</td>\n",
       "      <td>PC 17599</td>\n",
       "      <td>71.2833</td>\n",
       "      <td>C85</td>\n",
       "      <td>C</td>\n",
       "    </tr>\n",
       "    <tr>\n",
       "      <th>2</th>\n",
       "      <td>3</td>\n",
       "      <td>1</td>\n",
       "      <td>3</td>\n",
       "      <td>Heikkinen, Miss. Laina</td>\n",
       "      <td>female</td>\n",
       "      <td>26.0</td>\n",
       "      <td>0</td>\n",
       "      <td>0</td>\n",
       "      <td>STON/O2. 3101282</td>\n",
       "      <td>7.9250</td>\n",
       "      <td>NaN</td>\n",
       "      <td>S</td>\n",
       "    </tr>\n",
       "    <tr>\n",
       "      <th>3</th>\n",
       "      <td>4</td>\n",
       "      <td>1</td>\n",
       "      <td>1</td>\n",
       "      <td>Futrelle, Mrs. Jacques Heath (Lily May Peel)</td>\n",
       "      <td>female</td>\n",
       "      <td>35.0</td>\n",
       "      <td>1</td>\n",
       "      <td>0</td>\n",
       "      <td>113803</td>\n",
       "      <td>53.1000</td>\n",
       "      <td>C123</td>\n",
       "      <td>S</td>\n",
       "    </tr>\n",
       "    <tr>\n",
       "      <th>4</th>\n",
       "      <td>5</td>\n",
       "      <td>0</td>\n",
       "      <td>3</td>\n",
       "      <td>Allen, Mr. William Henry</td>\n",
       "      <td>male</td>\n",
       "      <td>35.0</td>\n",
       "      <td>0</td>\n",
       "      <td>0</td>\n",
       "      <td>373450</td>\n",
       "      <td>8.0500</td>\n",
       "      <td>NaN</td>\n",
       "      <td>S</td>\n",
       "    </tr>\n",
       "  </tbody>\n",
       "</table>\n",
       "</div>"
      ],
      "text/plain": [
       "   PassengerId  Survived  Pclass  \\\n",
       "0            1         0       3   \n",
       "1            2         1       1   \n",
       "2            3         1       3   \n",
       "3            4         1       1   \n",
       "4            5         0       3   \n",
       "\n",
       "                                                Name     Sex   Age  SibSp  \\\n",
       "0                            Braund, Mr. Owen Harris    male  22.0      1   \n",
       "1  Cumings, Mrs. John Bradley (Florence Briggs Th...  female  38.0      1   \n",
       "2                             Heikkinen, Miss. Laina  female  26.0      0   \n",
       "3       Futrelle, Mrs. Jacques Heath (Lily May Peel)  female  35.0      1   \n",
       "4                           Allen, Mr. William Henry    male  35.0      0   \n",
       "\n",
       "   Parch            Ticket     Fare Cabin Embarked  \n",
       "0      0         A/5 21171   7.2500   NaN        S  \n",
       "1      0          PC 17599  71.2833   C85        C  \n",
       "2      0  STON/O2. 3101282   7.9250   NaN        S  \n",
       "3      0            113803  53.1000  C123        S  \n",
       "4      0            373450   8.0500   NaN        S  "
      ]
     },
     "execution_count": 2,
     "metadata": {},
     "output_type": "execute_result"
    }
   ],
   "source": [
    "train.head()"
   ]
  },
  {
   "cell_type": "markdown",
   "metadata": {},
   "source": [
    "Impute Age with MICE"
   ]
  },
  {
   "cell_type": "code",
   "execution_count": 3,
   "metadata": {
    "collapsed": true
   },
   "outputs": [],
   "source": [
    "train_mat = train.select_dtypes(include=['number']).as_matrix() #selecting quant vars from train and test and converting to mat\n",
    "test_mat = test.select_dtypes(include=['number']).as_matrix()"
   ]
  },
  {
   "cell_type": "code",
   "execution_count": 4,
   "metadata": {},
   "outputs": [
    {
     "name": "stderr",
     "output_type": "stream",
     "text": [
      "WARNING (theano.configdefaults): g++ not available, if using conda: `conda install m2w64-toolchain`\n",
      "C:\\Users\\Gwendolyn Fernandez\\AppData\\Local\\Continuum\\anaconda3\\lib\\site-packages\\theano\\configdefaults.py:560: UserWarning: DeprecationWarning: there is no c++ compiler.This is deprecated and with Theano 0.11 a c++ compiler will be mandatory\n",
      "  warnings.warn(\"DeprecationWarning: there is no c++ compiler.\"\n",
      "WARNING (theano.configdefaults): g++ not detected ! Theano will be unable to execute optimized C-implementations (for both CPU and GPU) and will default to Python implementations. Performance will be severely degraded. To remove this warning, set Theano flags cxx to an empty string.\n",
      "WARNING (theano.tensor.blas): Using NumPy C-API based implementation for BLAS functions.\n"
     ]
    },
    {
     "name": "stdout",
     "output_type": "stream",
     "text": [
      "[MICE] Completing matrix with shape (891, 7)\n",
      "[MICE] Starting imputation round 1/110, elapsed time 0.001\n",
      "[MICE] Starting imputation round 2/110, elapsed time 1.968\n",
      "[MICE] Starting imputation round 3/110, elapsed time 1.969\n",
      "[MICE] Starting imputation round 4/110, elapsed time 1.970\n",
      "[MICE] Starting imputation round 5/110, elapsed time 1.971\n",
      "[MICE] Starting imputation round 6/110, elapsed time 1.971\n",
      "[MICE] Starting imputation round 7/110, elapsed time 1.972\n",
      "[MICE] Starting imputation round 8/110, elapsed time 1.972\n",
      "[MICE] Starting imputation round 9/110, elapsed time 1.973\n",
      "[MICE] Starting imputation round 10/110, elapsed time 1.974\n",
      "[MICE] Starting imputation round 11/110, elapsed time 1.974\n",
      "[MICE] Starting imputation round 12/110, elapsed time 1.975\n",
      "[MICE] Starting imputation round 13/110, elapsed time 1.975\n",
      "[MICE] Starting imputation round 14/110, elapsed time 1.976\n",
      "[MICE] Starting imputation round 15/110, elapsed time 1.976\n",
      "[MICE] Starting imputation round 16/110, elapsed time 1.977\n",
      "[MICE] Starting imputation round 17/110, elapsed time 1.977\n",
      "[MICE] Starting imputation round 18/110, elapsed time 1.978\n",
      "[MICE] Starting imputation round 19/110, elapsed time 1.978\n",
      "[MICE] Starting imputation round 20/110, elapsed time 1.979\n",
      "[MICE] Starting imputation round 21/110, elapsed time 1.979\n",
      "[MICE] Starting imputation round 22/110, elapsed time 1.981\n",
      "[MICE] Starting imputation round 23/110, elapsed time 1.981\n",
      "[MICE] Starting imputation round 24/110, elapsed time 1.982\n",
      "[MICE] Starting imputation round 25/110, elapsed time 1.983\n",
      "[MICE] Starting imputation round 26/110, elapsed time 1.983\n",
      "[MICE] Starting imputation round 27/110, elapsed time 1.984\n",
      "[MICE] Starting imputation round 28/110, elapsed time 1.984\n",
      "[MICE] Starting imputation round 29/110, elapsed time 1.985\n",
      "[MICE] Starting imputation round 30/110, elapsed time 1.985\n",
      "[MICE] Starting imputation round 31/110, elapsed time 1.986\n",
      "[MICE] Starting imputation round 32/110, elapsed time 1.987\n",
      "[MICE] Starting imputation round 33/110, elapsed time 1.988\n",
      "[MICE] Starting imputation round 34/110, elapsed time 1.988\n",
      "[MICE] Starting imputation round 35/110, elapsed time 1.989\n",
      "[MICE] Starting imputation round 36/110, elapsed time 1.990\n",
      "[MICE] Starting imputation round 37/110, elapsed time 1.990\n",
      "[MICE] Starting imputation round 38/110, elapsed time 1.991\n",
      "[MICE] Starting imputation round 39/110, elapsed time 1.991\n",
      "[MICE] Starting imputation round 40/110, elapsed time 1.992\n",
      "[MICE] Starting imputation round 41/110, elapsed time 1.993\n",
      "[MICE] Starting imputation round 42/110, elapsed time 1.993\n",
      "[MICE] Starting imputation round 43/110, elapsed time 1.994\n",
      "[MICE] Starting imputation round 44/110, elapsed time 1.995\n",
      "[MICE] Starting imputation round 45/110, elapsed time 1.995\n",
      "[MICE] Starting imputation round 46/110, elapsed time 1.996\n",
      "[MICE] Starting imputation round 47/110, elapsed time 1.997\n",
      "[MICE] Starting imputation round 48/110, elapsed time 1.997\n",
      "[MICE] Starting imputation round 49/110, elapsed time 1.998\n",
      "[MICE] Starting imputation round 50/110, elapsed time 1.998\n",
      "[MICE] Starting imputation round 51/110, elapsed time 1.999\n",
      "[MICE] Starting imputation round 52/110, elapsed time 1.999\n",
      "[MICE] Starting imputation round 53/110, elapsed time 2.000\n",
      "[MICE] Starting imputation round 54/110, elapsed time 2.000\n",
      "[MICE] Starting imputation round 55/110, elapsed time 2.001\n",
      "[MICE] Starting imputation round 56/110, elapsed time 2.001\n",
      "[MICE] Starting imputation round 57/110, elapsed time 2.002\n",
      "[MICE] Starting imputation round 58/110, elapsed time 2.002\n",
      "[MICE] Starting imputation round 59/110, elapsed time 2.003\n",
      "[MICE] Starting imputation round 60/110, elapsed time 2.003\n",
      "[MICE] Starting imputation round 61/110, elapsed time 2.004\n",
      "[MICE] Starting imputation round 62/110, elapsed time 2.004\n",
      "[MICE] Starting imputation round 63/110, elapsed time 2.004\n",
      "[MICE] Starting imputation round 64/110, elapsed time 2.005\n",
      "[MICE] Starting imputation round 65/110, elapsed time 2.005\n",
      "[MICE] Starting imputation round 66/110, elapsed time 2.006\n",
      "[MICE] Starting imputation round 67/110, elapsed time 2.006\n",
      "[MICE] Starting imputation round 68/110, elapsed time 2.007\n",
      "[MICE] Starting imputation round 69/110, elapsed time 2.007\n",
      "[MICE] Starting imputation round 70/110, elapsed time 2.008\n",
      "[MICE] Starting imputation round 71/110, elapsed time 2.009\n",
      "[MICE] Starting imputation round 72/110, elapsed time 2.009\n",
      "[MICE] Starting imputation round 73/110, elapsed time 2.010\n",
      "[MICE] Starting imputation round 74/110, elapsed time 2.010\n",
      "[MICE] Starting imputation round 75/110, elapsed time 2.011\n",
      "[MICE] Starting imputation round 76/110, elapsed time 2.011\n",
      "[MICE] Starting imputation round 77/110, elapsed time 2.011\n",
      "[MICE] Starting imputation round 78/110, elapsed time 2.012\n",
      "[MICE] Starting imputation round 79/110, elapsed time 2.012\n",
      "[MICE] Starting imputation round 80/110, elapsed time 2.013\n",
      "[MICE] Starting imputation round 81/110, elapsed time 2.013\n",
      "[MICE] Starting imputation round 82/110, elapsed time 2.014\n",
      "[MICE] Starting imputation round 83/110, elapsed time 2.014\n",
      "[MICE] Starting imputation round 84/110, elapsed time 2.015\n",
      "[MICE] Starting imputation round 85/110, elapsed time 2.015\n",
      "[MICE] Starting imputation round 86/110, elapsed time 2.017\n",
      "[MICE] Starting imputation round 87/110, elapsed time 2.017\n",
      "[MICE] Starting imputation round 88/110, elapsed time 2.018\n",
      "[MICE] Starting imputation round 89/110, elapsed time 2.018\n",
      "[MICE] Starting imputation round 90/110, elapsed time 2.019\n",
      "[MICE] Starting imputation round 91/110, elapsed time 2.019\n",
      "[MICE] Starting imputation round 92/110, elapsed time 2.020\n",
      "[MICE] Starting imputation round 93/110, elapsed time 2.020\n",
      "[MICE] Starting imputation round 94/110, elapsed time 2.021\n",
      "[MICE] Starting imputation round 95/110, elapsed time 2.021\n",
      "[MICE] Starting imputation round 96/110, elapsed time 2.022\n",
      "[MICE] Starting imputation round 97/110, elapsed time 2.023\n",
      "[MICE] Starting imputation round 98/110, elapsed time 2.023\n",
      "[MICE] Starting imputation round 99/110, elapsed time 2.024\n",
      "[MICE] Starting imputation round 100/110, elapsed time 2.024\n",
      "[MICE] Starting imputation round 101/110, elapsed time 2.025\n",
      "[MICE] Starting imputation round 102/110, elapsed time 2.025\n",
      "[MICE] Starting imputation round 103/110, elapsed time 2.026\n",
      "[MICE] Starting imputation round 104/110, elapsed time 2.026\n",
      "[MICE] Starting imputation round 105/110, elapsed time 2.027\n",
      "[MICE] Starting imputation round 106/110, elapsed time 2.028\n",
      "[MICE] Starting imputation round 107/110, elapsed time 2.028\n",
      "[MICE] Starting imputation round 108/110, elapsed time 2.029\n",
      "[MICE] Starting imputation round 109/110, elapsed time 2.029\n",
      "[MICE] Starting imputation round 110/110, elapsed time 2.030\n",
      "[MICE] Completing matrix with shape (418, 6)\n",
      "[MICE] Starting imputation round 1/110, elapsed time 0.000\n",
      "[MICE] Starting imputation round 2/110, elapsed time 0.001\n",
      "[MICE] Starting imputation round 3/110, elapsed time 0.002\n",
      "[MICE] Starting imputation round 4/110, elapsed time 0.002\n",
      "[MICE] Starting imputation round 5/110, elapsed time 0.003\n",
      "[MICE] Starting imputation round 6/110, elapsed time 0.003\n",
      "[MICE] Starting imputation round 7/110, elapsed time 0.004\n",
      "[MICE] Starting imputation round 8/110, elapsed time 0.004\n",
      "[MICE] Starting imputation round 9/110, elapsed time 0.005\n",
      "[MICE] Starting imputation round 10/110, elapsed time 0.006\n",
      "[MICE] Starting imputation round 11/110, elapsed time 0.006\n",
      "[MICE] Starting imputation round 12/110, elapsed time 0.007\n",
      "[MICE] Starting imputation round 13/110, elapsed time 0.007\n",
      "[MICE] Starting imputation round 14/110, elapsed time 0.008\n",
      "[MICE] Starting imputation round 15/110, elapsed time 0.008\n",
      "[MICE] Starting imputation round 16/110, elapsed time 0.009\n",
      "[MICE] Starting imputation round 17/110, elapsed time 0.009\n",
      "[MICE] Starting imputation round 18/110, elapsed time 0.010\n",
      "[MICE] Starting imputation round 19/110, elapsed time 0.010\n",
      "[MICE] Starting imputation round 20/110, elapsed time 0.011\n",
      "[MICE] Starting imputation round 21/110, elapsed time 0.011\n",
      "[MICE] Starting imputation round 22/110, elapsed time 0.012\n",
      "[MICE] Starting imputation round 23/110, elapsed time 0.013\n",
      "[MICE] Starting imputation round 24/110, elapsed time 0.013\n",
      "[MICE] Starting imputation round 25/110, elapsed time 0.014\n",
      "[MICE] Starting imputation round 26/110, elapsed time 0.015\n",
      "[MICE] Starting imputation round 27/110, elapsed time 0.016\n",
      "[MICE] Starting imputation round 28/110, elapsed time 0.016\n",
      "[MICE] Starting imputation round 29/110, elapsed time 0.017\n",
      "[MICE] Starting imputation round 30/110, elapsed time 0.018\n",
      "[MICE] Starting imputation round 31/110, elapsed time 0.019\n",
      "[MICE] Starting imputation round 32/110, elapsed time 0.019\n",
      "[MICE] Starting imputation round 33/110, elapsed time 0.020\n",
      "[MICE] Starting imputation round 34/110, elapsed time 0.021\n",
      "[MICE] Starting imputation round 35/110, elapsed time 0.021\n",
      "[MICE] Starting imputation round 36/110, elapsed time 0.022\n",
      "[MICE] Starting imputation round 37/110, elapsed time 0.023\n",
      "[MICE] Starting imputation round 38/110, elapsed time 0.023\n",
      "[MICE] Starting imputation round 39/110, elapsed time 0.024\n",
      "[MICE] Starting imputation round 40/110, elapsed time 0.025\n",
      "[MICE] Starting imputation round 41/110, elapsed time 0.025\n",
      "[MICE] Starting imputation round 42/110, elapsed time 0.026\n",
      "[MICE] Starting imputation round 43/110, elapsed time 0.027\n",
      "[MICE] Starting imputation round 44/110, elapsed time 0.027\n",
      "[MICE] Starting imputation round 45/110, elapsed time 0.028\n",
      "[MICE] Starting imputation round 46/110, elapsed time 0.029\n",
      "[MICE] Starting imputation round 47/110, elapsed time 0.030\n",
      "[MICE] Starting imputation round 48/110, elapsed time 0.030\n",
      "[MICE] Starting imputation round 49/110, elapsed time 0.031\n",
      "[MICE] Starting imputation round 50/110, elapsed time 0.032\n",
      "[MICE] Starting imputation round 51/110, elapsed time 0.033\n",
      "[MICE] Starting imputation round 52/110, elapsed time 0.034\n",
      "[MICE] Starting imputation round 53/110, elapsed time 0.035\n",
      "[MICE] Starting imputation round 54/110, elapsed time 0.036\n",
      "[MICE] Starting imputation round 55/110, elapsed time 0.037\n",
      "[MICE] Starting imputation round 56/110, elapsed time 0.037\n",
      "[MICE] Starting imputation round 57/110, elapsed time 0.038\n",
      "[MICE] Starting imputation round 58/110, elapsed time 0.039\n",
      "[MICE] Starting imputation round 59/110, elapsed time 0.040\n",
      "[MICE] Starting imputation round 60/110, elapsed time 0.042\n",
      "[MICE] Starting imputation round 61/110, elapsed time 0.043\n",
      "[MICE] Starting imputation round 62/110, elapsed time 0.044\n",
      "[MICE] Starting imputation round 63/110, elapsed time 0.045\n",
      "[MICE] Starting imputation round 64/110, elapsed time 0.046\n",
      "[MICE] Starting imputation round 65/110, elapsed time 0.047\n",
      "[MICE] Starting imputation round 66/110, elapsed time 0.048\n",
      "[MICE] Starting imputation round 67/110, elapsed time 0.052\n",
      "[MICE] Starting imputation round 68/110, elapsed time 0.053\n",
      "[MICE] Starting imputation round 69/110, elapsed time 0.054\n",
      "[MICE] Starting imputation round 70/110, elapsed time 0.055\n",
      "[MICE] Starting imputation round 71/110, elapsed time 0.056\n",
      "[MICE] Starting imputation round 72/110, elapsed time 0.057\n",
      "[MICE] Starting imputation round 73/110, elapsed time 0.058\n",
      "[MICE] Starting imputation round 74/110, elapsed time 0.059\n",
      "[MICE] Starting imputation round 75/110, elapsed time 0.060\n",
      "[MICE] Starting imputation round 76/110, elapsed time 0.061\n",
      "[MICE] Starting imputation round 77/110, elapsed time 0.061\n",
      "[MICE] Starting imputation round 78/110, elapsed time 0.062\n",
      "[MICE] Starting imputation round 79/110, elapsed time 0.063\n",
      "[MICE] Starting imputation round 80/110, elapsed time 0.064\n",
      "[MICE] Starting imputation round 81/110, elapsed time 0.065\n",
      "[MICE] Starting imputation round 82/110, elapsed time 0.066\n",
      "[MICE] Starting imputation round 83/110, elapsed time 0.067\n",
      "[MICE] Starting imputation round 84/110, elapsed time 0.068\n",
      "[MICE] Starting imputation round 85/110, elapsed time 0.068\n",
      "[MICE] Starting imputation round 86/110, elapsed time 0.069\n",
      "[MICE] Starting imputation round 87/110, elapsed time 0.069\n",
      "[MICE] Starting imputation round 88/110, elapsed time 0.070\n",
      "[MICE] Starting imputation round 89/110, elapsed time 0.070\n",
      "[MICE] Starting imputation round 90/110, elapsed time 0.071\n",
      "[MICE] Starting imputation round 91/110, elapsed time 0.071\n",
      "[MICE] Starting imputation round 92/110, elapsed time 0.072\n",
      "[MICE] Starting imputation round 93/110, elapsed time 0.072\n",
      "[MICE] Starting imputation round 94/110, elapsed time 0.073\n",
      "[MICE] Starting imputation round 95/110, elapsed time 0.073\n",
      "[MICE] Starting imputation round 96/110, elapsed time 0.074\n",
      "[MICE] Starting imputation round 97/110, elapsed time 0.074\n",
      "[MICE] Starting imputation round 98/110, elapsed time 0.075\n",
      "[MICE] Starting imputation round 99/110, elapsed time 0.075\n",
      "[MICE] Starting imputation round 100/110, elapsed time 0.076\n",
      "[MICE] Starting imputation round 101/110, elapsed time 0.076\n",
      "[MICE] Starting imputation round 102/110, elapsed time 0.077\n",
      "[MICE] Starting imputation round 103/110, elapsed time 0.077\n",
      "[MICE] Starting imputation round 104/110, elapsed time 0.078\n",
      "[MICE] Starting imputation round 105/110, elapsed time 0.078\n",
      "[MICE] Starting imputation round 106/110, elapsed time 0.079\n",
      "[MICE] Starting imputation round 107/110, elapsed time 0.079\n",
      "[MICE] Starting imputation round 108/110, elapsed time 0.080\n",
      "[MICE] Starting imputation round 109/110, elapsed time 0.080\n",
      "[MICE] Starting imputation round 110/110, elapsed time 0.081\n"
     ]
    }
   ],
   "source": [
    "from fancyimpute import MICE\n",
    "\n",
    "mice = MICE(n_imputations=100,impute_type='col')\n",
    "\n",
    "train_imputed = mice.complete(train_mat)\n",
    "test_imputed = mice.complete(test_mat)"
   ]
  },
  {
   "cell_type": "code",
   "execution_count": 5,
   "metadata": {
    "collapsed": true
   },
   "outputs": [],
   "source": [
    "train_cols = train[['PassengerId','Survived','Pclass','Age','SibSp','Parch','Fare']].columns\n",
    "test_cols = test[['PassengerId','Pclass','Age','SibSp','Parch','Fare']].columns\n",
    "\n",
    "train_imputed = pd.DataFrame(train_imputed, columns=train_cols) #converting mice output back to pd dataframe\n",
    "test_imputed = pd.DataFrame(test_imputed, columns=test_cols)"
   ]
  },
  {
   "cell_type": "code",
   "execution_count": 6,
   "metadata": {},
   "outputs": [
    {
     "data": {
      "text/plain": [
       "False    891\n",
       "Name: Age, dtype: int64"
      ]
     },
     "execution_count": 6,
     "metadata": {},
     "output_type": "execute_result"
    }
   ],
   "source": [
    "train_imputed['Age'].isnull().value_counts() #all missing values successfully imputed!"
   ]
  },
  {
   "cell_type": "code",
   "execution_count": 7,
   "metadata": {},
   "outputs": [
    {
     "name": "stdout",
     "output_type": "stream",
     "text": [
      "Pre-Imputation Age Mean: 29.69911764705882\n",
      "Post-Imputation Age Mean: 29.62748313689189\n",
      "Pre-Imputation SD: 14.526497332334044\n",
      "Post-Imputation SD: 13.023623383981858\n"
     ]
    }
   ],
   "source": [
    "print('Pre-Imputation Age Mean:',train['Age'].mean())\n",
    "print('Post-Imputation Age Mean:',train_imputed['Age'].mean())\n",
    "print('Pre-Imputation SD:',train['Age'].std())\n",
    "print('Post-Imputation SD:',train_imputed['Age'].std())"
   ]
  },
  {
   "cell_type": "markdown",
   "metadata": {},
   "source": [
    "Add categoricals back to dataframes with imputed age - * except for cabin *"
   ]
  },
  {
   "cell_type": "code",
   "execution_count": 8,
   "metadata": {},
   "outputs": [
    {
     "data": {
      "text/plain": [
       "Index(['PassengerId', 'Survived', 'Pclass', 'Name', 'Sex', 'Age', 'SibSp',\n",
       "       'Parch', 'Ticket', 'Fare', 'Cabin', 'Embarked'],\n",
       "      dtype='object')"
      ]
     },
     "execution_count": 8,
     "metadata": {},
     "output_type": "execute_result"
    }
   ],
   "source": [
    "train.columns"
   ]
  },
  {
   "cell_type": "code",
   "execution_count": 9,
   "metadata": {
    "collapsed": true
   },
   "outputs": [],
   "source": [
    "train_imputed['Name'] = train['Name']\n",
    "train_imputed['Sex'] = train['Sex']\n",
    "train_imputed['Ticket'] = train['Ticket']\n",
    "train_imputed['Embarked'] = train['Embarked']"
   ]
  },
  {
   "cell_type": "code",
   "execution_count": 10,
   "metadata": {},
   "outputs": [
    {
     "data": {
      "text/html": [
       "<div>\n",
       "<style>\n",
       "    .dataframe thead tr:only-child th {\n",
       "        text-align: right;\n",
       "    }\n",
       "\n",
       "    .dataframe thead th {\n",
       "        text-align: left;\n",
       "    }\n",
       "\n",
       "    .dataframe tbody tr th {\n",
       "        vertical-align: top;\n",
       "    }\n",
       "</style>\n",
       "<table border=\"1\" class=\"dataframe\">\n",
       "  <thead>\n",
       "    <tr style=\"text-align: right;\">\n",
       "      <th></th>\n",
       "      <th>PassengerId</th>\n",
       "      <th>Survived</th>\n",
       "      <th>Pclass</th>\n",
       "      <th>Age</th>\n",
       "      <th>SibSp</th>\n",
       "      <th>Parch</th>\n",
       "      <th>Fare</th>\n",
       "      <th>Name</th>\n",
       "      <th>Sex</th>\n",
       "      <th>Ticket</th>\n",
       "      <th>Embarked</th>\n",
       "    </tr>\n",
       "  </thead>\n",
       "  <tbody>\n",
       "    <tr>\n",
       "      <th>0</th>\n",
       "      <td>1.0</td>\n",
       "      <td>0.0</td>\n",
       "      <td>3.0</td>\n",
       "      <td>22.0</td>\n",
       "      <td>1.0</td>\n",
       "      <td>0.0</td>\n",
       "      <td>7.2500</td>\n",
       "      <td>Braund, Mr. Owen Harris</td>\n",
       "      <td>male</td>\n",
       "      <td>A/5 21171</td>\n",
       "      <td>S</td>\n",
       "    </tr>\n",
       "    <tr>\n",
       "      <th>1</th>\n",
       "      <td>2.0</td>\n",
       "      <td>1.0</td>\n",
       "      <td>1.0</td>\n",
       "      <td>38.0</td>\n",
       "      <td>1.0</td>\n",
       "      <td>0.0</td>\n",
       "      <td>71.2833</td>\n",
       "      <td>Cumings, Mrs. John Bradley (Florence Briggs Th...</td>\n",
       "      <td>female</td>\n",
       "      <td>PC 17599</td>\n",
       "      <td>C</td>\n",
       "    </tr>\n",
       "    <tr>\n",
       "      <th>2</th>\n",
       "      <td>3.0</td>\n",
       "      <td>1.0</td>\n",
       "      <td>3.0</td>\n",
       "      <td>26.0</td>\n",
       "      <td>0.0</td>\n",
       "      <td>0.0</td>\n",
       "      <td>7.9250</td>\n",
       "      <td>Heikkinen, Miss. Laina</td>\n",
       "      <td>female</td>\n",
       "      <td>STON/O2. 3101282</td>\n",
       "      <td>S</td>\n",
       "    </tr>\n",
       "    <tr>\n",
       "      <th>3</th>\n",
       "      <td>4.0</td>\n",
       "      <td>1.0</td>\n",
       "      <td>1.0</td>\n",
       "      <td>35.0</td>\n",
       "      <td>1.0</td>\n",
       "      <td>0.0</td>\n",
       "      <td>53.1000</td>\n",
       "      <td>Futrelle, Mrs. Jacques Heath (Lily May Peel)</td>\n",
       "      <td>female</td>\n",
       "      <td>113803</td>\n",
       "      <td>S</td>\n",
       "    </tr>\n",
       "    <tr>\n",
       "      <th>4</th>\n",
       "      <td>5.0</td>\n",
       "      <td>0.0</td>\n",
       "      <td>3.0</td>\n",
       "      <td>35.0</td>\n",
       "      <td>0.0</td>\n",
       "      <td>0.0</td>\n",
       "      <td>8.0500</td>\n",
       "      <td>Allen, Mr. William Henry</td>\n",
       "      <td>male</td>\n",
       "      <td>373450</td>\n",
       "      <td>S</td>\n",
       "    </tr>\n",
       "  </tbody>\n",
       "</table>\n",
       "</div>"
      ],
      "text/plain": [
       "   PassengerId  Survived  Pclass   Age  SibSp  Parch     Fare  \\\n",
       "0          1.0       0.0     3.0  22.0    1.0    0.0   7.2500   \n",
       "1          2.0       1.0     1.0  38.0    1.0    0.0  71.2833   \n",
       "2          3.0       1.0     3.0  26.0    0.0    0.0   7.9250   \n",
       "3          4.0       1.0     1.0  35.0    1.0    0.0  53.1000   \n",
       "4          5.0       0.0     3.0  35.0    0.0    0.0   8.0500   \n",
       "\n",
       "                                                Name     Sex  \\\n",
       "0                            Braund, Mr. Owen Harris    male   \n",
       "1  Cumings, Mrs. John Bradley (Florence Briggs Th...  female   \n",
       "2                             Heikkinen, Miss. Laina  female   \n",
       "3       Futrelle, Mrs. Jacques Heath (Lily May Peel)  female   \n",
       "4                           Allen, Mr. William Henry    male   \n",
       "\n",
       "             Ticket Embarked  \n",
       "0         A/5 21171        S  \n",
       "1          PC 17599        C  \n",
       "2  STON/O2. 3101282        S  \n",
       "3            113803        S  \n",
       "4            373450        S  "
      ]
     },
     "execution_count": 10,
     "metadata": {},
     "output_type": "execute_result"
    }
   ],
   "source": [
    "train_imputed.head()"
   ]
  },
  {
   "cell_type": "code",
   "execution_count": 11,
   "metadata": {
    "collapsed": true
   },
   "outputs": [],
   "source": [
    "test_imputed['Name'] = test['Name']\n",
    "test_imputed['Sex'] = test['Sex']\n",
    "test_imputed['Ticket'] = test['Ticket']\n",
    "test_imputed['Embarked'] = test['Embarked']"
   ]
  },
  {
   "cell_type": "code",
   "execution_count": 12,
   "metadata": {},
   "outputs": [
    {
     "data": {
      "text/html": [
       "<div>\n",
       "<style>\n",
       "    .dataframe thead tr:only-child th {\n",
       "        text-align: right;\n",
       "    }\n",
       "\n",
       "    .dataframe thead th {\n",
       "        text-align: left;\n",
       "    }\n",
       "\n",
       "    .dataframe tbody tr th {\n",
       "        vertical-align: top;\n",
       "    }\n",
       "</style>\n",
       "<table border=\"1\" class=\"dataframe\">\n",
       "  <thead>\n",
       "    <tr style=\"text-align: right;\">\n",
       "      <th></th>\n",
       "      <th>PassengerId</th>\n",
       "      <th>Pclass</th>\n",
       "      <th>Age</th>\n",
       "      <th>SibSp</th>\n",
       "      <th>Parch</th>\n",
       "      <th>Fare</th>\n",
       "      <th>Name</th>\n",
       "      <th>Sex</th>\n",
       "      <th>Ticket</th>\n",
       "      <th>Embarked</th>\n",
       "    </tr>\n",
       "  </thead>\n",
       "  <tbody>\n",
       "    <tr>\n",
       "      <th>0</th>\n",
       "      <td>892.0</td>\n",
       "      <td>3.0</td>\n",
       "      <td>34.5</td>\n",
       "      <td>0.0</td>\n",
       "      <td>0.0</td>\n",
       "      <td>7.8292</td>\n",
       "      <td>Kelly, Mr. James</td>\n",
       "      <td>male</td>\n",
       "      <td>330911</td>\n",
       "      <td>Q</td>\n",
       "    </tr>\n",
       "    <tr>\n",
       "      <th>1</th>\n",
       "      <td>893.0</td>\n",
       "      <td>3.0</td>\n",
       "      <td>47.0</td>\n",
       "      <td>1.0</td>\n",
       "      <td>0.0</td>\n",
       "      <td>7.0000</td>\n",
       "      <td>Wilkes, Mrs. James (Ellen Needs)</td>\n",
       "      <td>female</td>\n",
       "      <td>363272</td>\n",
       "      <td>S</td>\n",
       "    </tr>\n",
       "    <tr>\n",
       "      <th>2</th>\n",
       "      <td>894.0</td>\n",
       "      <td>2.0</td>\n",
       "      <td>62.0</td>\n",
       "      <td>0.0</td>\n",
       "      <td>0.0</td>\n",
       "      <td>9.6875</td>\n",
       "      <td>Myles, Mr. Thomas Francis</td>\n",
       "      <td>male</td>\n",
       "      <td>240276</td>\n",
       "      <td>Q</td>\n",
       "    </tr>\n",
       "    <tr>\n",
       "      <th>3</th>\n",
       "      <td>895.0</td>\n",
       "      <td>3.0</td>\n",
       "      <td>27.0</td>\n",
       "      <td>0.0</td>\n",
       "      <td>0.0</td>\n",
       "      <td>8.6625</td>\n",
       "      <td>Wirz, Mr. Albert</td>\n",
       "      <td>male</td>\n",
       "      <td>315154</td>\n",
       "      <td>S</td>\n",
       "    </tr>\n",
       "    <tr>\n",
       "      <th>4</th>\n",
       "      <td>896.0</td>\n",
       "      <td>3.0</td>\n",
       "      <td>22.0</td>\n",
       "      <td>1.0</td>\n",
       "      <td>1.0</td>\n",
       "      <td>12.2875</td>\n",
       "      <td>Hirvonen, Mrs. Alexander (Helga E Lindqvist)</td>\n",
       "      <td>female</td>\n",
       "      <td>3101298</td>\n",
       "      <td>S</td>\n",
       "    </tr>\n",
       "  </tbody>\n",
       "</table>\n",
       "</div>"
      ],
      "text/plain": [
       "   PassengerId  Pclass   Age  SibSp  Parch     Fare  \\\n",
       "0        892.0     3.0  34.5    0.0    0.0   7.8292   \n",
       "1        893.0     3.0  47.0    1.0    0.0   7.0000   \n",
       "2        894.0     2.0  62.0    0.0    0.0   9.6875   \n",
       "3        895.0     3.0  27.0    0.0    0.0   8.6625   \n",
       "4        896.0     3.0  22.0    1.0    1.0  12.2875   \n",
       "\n",
       "                                           Name     Sex   Ticket Embarked  \n",
       "0                              Kelly, Mr. James    male   330911        Q  \n",
       "1              Wilkes, Mrs. James (Ellen Needs)  female   363272        S  \n",
       "2                     Myles, Mr. Thomas Francis    male   240276        Q  \n",
       "3                              Wirz, Mr. Albert    male   315154        S  \n",
       "4  Hirvonen, Mrs. Alexander (Helga E Lindqvist)  female  3101298        S  "
      ]
     },
     "execution_count": 12,
     "metadata": {},
     "output_type": "execute_result"
    }
   ],
   "source": [
    "test_imputed.head()"
   ]
  },
  {
   "cell_type": "markdown",
   "metadata": {
    "collapsed": true
   },
   "source": [
    "Label encoding categorical variables: Name, Sex, Ticket, Embarked"
   ]
  },
  {
   "cell_type": "code",
   "execution_count": 13,
   "metadata": {
    "collapsed": true
   },
   "outputs": [],
   "source": [
    "train_x = train_imputed.copy()\n",
    "train_x = train_x.drop(['Survived'], axis=1)\n",
    "train_x = train_x.drop(['PassengerId'], axis=1)"
   ]
  },
  {
   "cell_type": "code",
   "execution_count": 14,
   "metadata": {
    "collapsed": true
   },
   "outputs": [],
   "source": [
    "test = test_imputed.copy()\n",
    "test = test.drop(['PassengerId'],axis=1)"
   ]
  },
  {
   "cell_type": "code",
   "execution_count": 15,
   "metadata": {},
   "outputs": [
    {
     "name": "stdout",
     "output_type": "stream",
     "text": [
      "(891, 9)\n",
      "(418, 9)\n"
     ]
    }
   ],
   "source": [
    "print(train_x.shape)\n",
    "print(test.shape)"
   ]
  },
  {
   "cell_type": "code",
   "execution_count": 16,
   "metadata": {
    "collapsed": true
   },
   "outputs": [],
   "source": [
    "ntrain = train_x.shape[0]\n",
    "ntest = test.shape[0]"
   ]
  },
  {
   "cell_type": "code",
   "execution_count": 17,
   "metadata": {},
   "outputs": [
    {
     "data": {
      "text/plain": [
       "(1309, 9)"
      ]
     },
     "execution_count": 17,
     "metadata": {},
     "output_type": "execute_result"
    }
   ],
   "source": [
    "all_data = pd.concat([train_x,test]).reset_index(drop=True)\n",
    "all_data.shape"
   ]
  },
  {
   "cell_type": "code",
   "execution_count": 18,
   "metadata": {
    "collapsed": true
   },
   "outputs": [],
   "source": [
    "cols = ('Name','Sex','Ticket','Embarked')"
   ]
  },
  {
   "cell_type": "code",
   "execution_count": 19,
   "metadata": {
    "collapsed": true
   },
   "outputs": [],
   "source": [
    "from sklearn.preprocessing import LabelEncoder\n",
    "\n",
    "label_df = all_data.copy()\n",
    "\n",
    "for c in cols:\n",
    "    if label_df[c].dtype == 'object':\n",
    "        le = LabelEncoder()\n",
    "        label_df[c] = le.fit_transform(label_df[c].astype(str))"
   ]
  },
  {
   "cell_type": "code",
   "execution_count": 20,
   "metadata": {},
   "outputs": [
    {
     "data": {
      "text/html": [
       "<div>\n",
       "<style>\n",
       "    .dataframe thead tr:only-child th {\n",
       "        text-align: right;\n",
       "    }\n",
       "\n",
       "    .dataframe thead th {\n",
       "        text-align: left;\n",
       "    }\n",
       "\n",
       "    .dataframe tbody tr th {\n",
       "        vertical-align: top;\n",
       "    }\n",
       "</style>\n",
       "<table border=\"1\" class=\"dataframe\">\n",
       "  <thead>\n",
       "    <tr style=\"text-align: right;\">\n",
       "      <th></th>\n",
       "      <th>Pclass</th>\n",
       "      <th>Age</th>\n",
       "      <th>SibSp</th>\n",
       "      <th>Parch</th>\n",
       "      <th>Fare</th>\n",
       "      <th>Name</th>\n",
       "      <th>Sex</th>\n",
       "      <th>Ticket</th>\n",
       "      <th>Embarked</th>\n",
       "    </tr>\n",
       "  </thead>\n",
       "  <tbody>\n",
       "    <tr>\n",
       "      <th>0</th>\n",
       "      <td>3.0</td>\n",
       "      <td>22.0</td>\n",
       "      <td>1.0</td>\n",
       "      <td>0.0</td>\n",
       "      <td>7.2500</td>\n",
       "      <td>155</td>\n",
       "      <td>1</td>\n",
       "      <td>720</td>\n",
       "      <td>2</td>\n",
       "    </tr>\n",
       "    <tr>\n",
       "      <th>1</th>\n",
       "      <td>1.0</td>\n",
       "      <td>38.0</td>\n",
       "      <td>1.0</td>\n",
       "      <td>0.0</td>\n",
       "      <td>71.2833</td>\n",
       "      <td>286</td>\n",
       "      <td>0</td>\n",
       "      <td>816</td>\n",
       "      <td>0</td>\n",
       "    </tr>\n",
       "    <tr>\n",
       "      <th>2</th>\n",
       "      <td>3.0</td>\n",
       "      <td>26.0</td>\n",
       "      <td>0.0</td>\n",
       "      <td>0.0</td>\n",
       "      <td>7.9250</td>\n",
       "      <td>523</td>\n",
       "      <td>0</td>\n",
       "      <td>914</td>\n",
       "      <td>2</td>\n",
       "    </tr>\n",
       "    <tr>\n",
       "      <th>3</th>\n",
       "      <td>1.0</td>\n",
       "      <td>35.0</td>\n",
       "      <td>1.0</td>\n",
       "      <td>0.0</td>\n",
       "      <td>53.1000</td>\n",
       "      <td>422</td>\n",
       "      <td>0</td>\n",
       "      <td>65</td>\n",
       "      <td>2</td>\n",
       "    </tr>\n",
       "    <tr>\n",
       "      <th>4</th>\n",
       "      <td>3.0</td>\n",
       "      <td>35.0</td>\n",
       "      <td>0.0</td>\n",
       "      <td>0.0</td>\n",
       "      <td>8.0500</td>\n",
       "      <td>22</td>\n",
       "      <td>1</td>\n",
       "      <td>649</td>\n",
       "      <td>2</td>\n",
       "    </tr>\n",
       "  </tbody>\n",
       "</table>\n",
       "</div>"
      ],
      "text/plain": [
       "   Pclass   Age  SibSp  Parch     Fare  Name  Sex  Ticket  Embarked\n",
       "0     3.0  22.0    1.0    0.0   7.2500   155    1     720         2\n",
       "1     1.0  38.0    1.0    0.0  71.2833   286    0     816         0\n",
       "2     3.0  26.0    0.0    0.0   7.9250   523    0     914         2\n",
       "3     1.0  35.0    1.0    0.0  53.1000   422    0      65         2\n",
       "4     3.0  35.0    0.0    0.0   8.0500    22    1     649         2"
      ]
     },
     "execution_count": 20,
     "metadata": {},
     "output_type": "execute_result"
    }
   ],
   "source": [
    "label_df.head()"
   ]
  },
  {
   "cell_type": "code",
   "execution_count": 21,
   "metadata": {},
   "outputs": [
    {
     "data": {
      "text/plain": [
       "Pclass      float64\n",
       "Age         float64\n",
       "SibSp       float64\n",
       "Parch       float64\n",
       "Fare        float64\n",
       "Name          int64\n",
       "Sex           int64\n",
       "Ticket        int64\n",
       "Embarked      int64\n",
       "dtype: object"
      ]
     },
     "execution_count": 21,
     "metadata": {},
     "output_type": "execute_result"
    }
   ],
   "source": [
    "label_df.dtypes"
   ]
  },
  {
   "cell_type": "code",
   "execution_count": 22,
   "metadata": {
    "collapsed": true
   },
   "outputs": [],
   "source": [
    "all_data = label_df"
   ]
  },
  {
   "cell_type": "code",
   "execution_count": 23,
   "metadata": {
    "collapsed": true
   },
   "outputs": [],
   "source": [
    "trainX = all_data[:ntrain]\n",
    "test_x = all_data[ntrain:]"
   ]
  },
  {
   "cell_type": "code",
   "execution_count": 24,
   "metadata": {},
   "outputs": [
    {
     "name": "stdout",
     "output_type": "stream",
     "text": [
      "(891, 9)\n",
      "(418, 9)\n"
     ]
    }
   ],
   "source": [
    "print(trainX.shape)\n",
    "print(test_x.shape)"
   ]
  },
  {
   "cell_type": "code",
   "execution_count": 25,
   "metadata": {
    "collapsed": true
   },
   "outputs": [],
   "source": [
    "train_y = train['Survived']"
   ]
  },
  {
   "cell_type": "markdown",
   "metadata": {},
   "source": [
    "### Random Forest Classifier"
   ]
  },
  {
   "cell_type": "markdown",
   "metadata": {},
   "source": [
    "Default settings for model and no class weights"
   ]
  },
  {
   "cell_type": "code",
   "execution_count": 26,
   "metadata": {},
   "outputs": [
    {
     "data": {
      "text/plain": [
       "RandomForestClassifier(bootstrap=True, class_weight=None, criterion='gini',\n",
       "            max_depth=None, max_features='auto', max_leaf_nodes=None,\n",
       "            min_impurity_decrease=0.0, min_impurity_split=None,\n",
       "            min_samples_leaf=1, min_samples_split=2,\n",
       "            min_weight_fraction_leaf=0.0, n_estimators=10, n_jobs=-1,\n",
       "            oob_score=False, random_state=None, verbose=0,\n",
       "            warm_start=False)"
      ]
     },
     "execution_count": 26,
     "metadata": {},
     "output_type": "execute_result"
    }
   ],
   "source": [
    "from sklearn.ensemble import RandomForestClassifier\n",
    "\n",
    "basic_rf = RandomForestClassifier(n_jobs=-1) #training first model using default settings and NO class weights\n",
    "basic_rf.fit(trainX,train_y)"
   ]
  },
  {
   "cell_type": "code",
   "execution_count": 40,
   "metadata": {
    "collapsed": true
   },
   "outputs": [],
   "source": [
    "predictions = basic_rf.predict(trainX) #predicting on training set"
   ]
  },
  {
   "cell_type": "code",
   "execution_count": 41,
   "metadata": {},
   "outputs": [],
   "source": [
    "from sklearn.metrics import confusion_matrix\n",
    "\n",
    "conf_mat = confusion_matrix(train_y, predictions)"
   ]
  },
  {
   "cell_type": "code",
   "execution_count": 42,
   "metadata": {},
   "outputs": [
    {
     "data": {
      "text/plain": [
       "array([[549,   0],\n",
       "       [ 11, 331]], dtype=int64)"
      ]
     },
     "execution_count": 42,
     "metadata": {},
     "output_type": "execute_result"
    }
   ],
   "source": [
    "conf_mat"
   ]
  },
  {
   "cell_type": "code",
   "execution_count": 44,
   "metadata": {},
   "outputs": [
    {
     "data": {
      "text/plain": [
       "0.98391812865497075"
      ]
     },
     "execution_count": 44,
     "metadata": {},
     "output_type": "execute_result"
    }
   ],
   "source": [
    "from sklearn.metrics import roc_auc_score\n",
    "\n",
    "auROC = roc_auc_score(train_y, predictions)\n",
    "auROC"
   ]
  },
  {
   "cell_type": "code",
   "execution_count": 46,
   "metadata": {},
   "outputs": [
    {
     "data": {
      "text/plain": [
       "0.98018193632228723"
      ]
     },
     "execution_count": 46,
     "metadata": {},
     "output_type": "execute_result"
    }
   ],
   "source": [
    "from sklearn.metrics import average_precision_score\n",
    "\n",
    "precision = average_precision_score(train_y, predictions)\n",
    "precision"
   ]
  },
  {
   "cell_type": "markdown",
   "metadata": {},
   "source": [
    "Achieving high accuracy and precision with very basic model.. let's try a grid search to tune hyperparameters (again with NO class weights)"
   ]
  },
  {
   "cell_type": "code",
   "execution_count": 47,
   "metadata": {},
   "outputs": [
    {
     "data": {
      "text/plain": [
       "GridSearchCV(cv=5, error_score='raise',\n",
       "       estimator=RandomForestClassifier(bootstrap=True, class_weight=None, criterion='gini',\n",
       "            max_depth=None, max_features='auto', max_leaf_nodes=None,\n",
       "            min_impurity_decrease=0.0, min_impurity_split=None,\n",
       "            min_samples_leaf=1, min_samples_split=2,\n",
       "            min_weight_fraction_leaf=0.0, n_estimators=10, n_jobs=-1,\n",
       "            oob_score=False, random_state=None, verbose=0,\n",
       "            warm_start=False),\n",
       "       fit_params=None, iid=True, n_jobs=1,\n",
       "       param_grid=[{'n_estimators': [200, 500, 600], 'max_features': [2, 3, 4], 'max_depth': [2, 3, 4, 5]}],\n",
       "       pre_dispatch='2*n_jobs', refit=True, return_train_score='warn',\n",
       "       scoring=None, verbose=0)"
      ]
     },
     "execution_count": 47,
     "metadata": {},
     "output_type": "execute_result"
    }
   ],
   "source": [
    "from sklearn.model_selection import GridSearchCV\n",
    "\n",
    "paramgrid = [{'n_estimators':[200,500,600],'max_features':[2,3,4],'max_depth':[2,3,4,5]}]\n",
    "grid_search = GridSearchCV(basic_rf, paramgrid, cv=5)\n",
    "grid_search.fit(trainX,train_y)"
   ]
  },
  {
   "cell_type": "code",
   "execution_count": 48,
   "metadata": {},
   "outputs": [
    {
     "data": {
      "text/plain": [
       "{'max_depth': 5, 'max_features': 4, 'n_estimators': 200}"
      ]
     },
     "execution_count": 48,
     "metadata": {},
     "output_type": "execute_result"
    }
   ],
   "source": [
    "grid_search.best_params_"
   ]
  },
  {
   "cell_type": "code",
   "execution_count": 51,
   "metadata": {},
   "outputs": [
    {
     "data": {
      "text/plain": [
       "RandomForestClassifier(bootstrap=True, class_weight=None, criterion='gini',\n",
       "            max_depth=5, max_features=4, max_leaf_nodes=None,\n",
       "            min_impurity_decrease=0.0, min_impurity_split=None,\n",
       "            min_samples_leaf=1, min_samples_split=2,\n",
       "            min_weight_fraction_leaf=0.0, n_estimators=200, n_jobs=-1,\n",
       "            oob_score=False, random_state=None, verbose=0,\n",
       "            warm_start=False)"
      ]
     },
     "execution_count": 51,
     "metadata": {},
     "output_type": "execute_result"
    }
   ],
   "source": [
    "best_rf = RandomForestClassifier(n_jobs=-1, max_depth=5, max_features=4, n_estimators=200)\n",
    "best_rf.fit(trainX,train_y)"
   ]
  },
  {
   "cell_type": "code",
   "execution_count": 52,
   "metadata": {
    "collapsed": true
   },
   "outputs": [],
   "source": [
    "predictions = best_rf.predict(trainX)"
   ]
  },
  {
   "cell_type": "code",
   "execution_count": 54,
   "metadata": {},
   "outputs": [
    {
     "data": {
      "text/plain": [
       "array([[528,  21],\n",
       "       [ 87, 255]], dtype=int64)"
      ]
     },
     "execution_count": 54,
     "metadata": {},
     "output_type": "execute_result"
    }
   ],
   "source": [
    "conf_mat = confusion_matrix(train_y, predictions)\n",
    "conf_mat"
   ]
  },
  {
   "cell_type": "code",
   "execution_count": 56,
   "metadata": {},
   "outputs": [
    {
     "data": {
      "text/plain": [
       "0.85368133448375028"
      ]
     },
     "execution_count": 56,
     "metadata": {},
     "output_type": "execute_result"
    }
   ],
   "source": [
    "auROC = roc_auc_score(train_y, predictions)\n",
    "auROC"
   ]
  },
  {
   "cell_type": "code",
   "execution_count": 57,
   "metadata": {},
   "outputs": [
    {
     "data": {
      "text/plain": [
       "0.7865256300610991"
      ]
     },
     "execution_count": 57,
     "metadata": {},
     "output_type": "execute_result"
    }
   ],
   "source": [
    "precision = average_precision_score(train_y, predictions)\n",
    "precision"
   ]
  },
  {
   "cell_type": "markdown",
   "metadata": {},
   "source": [
    "Best model achieved through CV now performing worse than basic model in terms of accuracy and precision... let's try adding class weights"
   ]
  },
  {
   "cell_type": "code",
   "execution_count": null,
   "metadata": {
    "collapsed": true
   },
   "outputs": [],
   "source": []
  }
 ],
 "metadata": {
  "kernelspec": {
   "display_name": "Python 3",
   "language": "python",
   "name": "python3"
  },
  "language_info": {
   "codemirror_mode": {
    "name": "ipython",
    "version": 3
   },
   "file_extension": ".py",
   "mimetype": "text/x-python",
   "name": "python",
   "nbconvert_exporter": "python",
   "pygments_lexer": "ipython3",
   "version": "3.6.3"
  }
 },
 "nbformat": 4,
 "nbformat_minor": 2
}
